{
 "cells": [
  {
   "cell_type": "markdown",
   "id": "e02264df",
   "metadata": {},
   "source": [
    "##  Deep Learning – Assignment 1: Single-Word Audio Classification (FNN)"
   ]
  },
  {
   "cell_type": "markdown",
   "id": "30f9167e",
   "metadata": {},
   "source": [
    "# Library\n"
   ]
  },
  {
   "cell_type": "code",
   "execution_count": 1,
   "id": "3f92f8c4",
   "metadata": {},
   "outputs": [
    {
     "name": "stdout",
     "output_type": "stream",
     "text": [
      "Fri May  2 22:42:52 2025       \n",
      "+-----------------------------------------------------------------------------------------+\n",
      "| NVIDIA-SMI 572.42                 Driver Version: 572.42         CUDA Version: 12.8     |\n",
      "|-----------------------------------------+------------------------+----------------------+\n",
      "| GPU  Name                  Driver-Model | Bus-Id          Disp.A | Volatile Uncorr. ECC |\n",
      "| Fan  Temp   Perf          Pwr:Usage/Cap |           Memory-Usage | GPU-Util  Compute M. |\n",
      "|                                         |                        |               MIG M. |\n",
      "|=========================================+========================+======================|\n",
      "|   0  NVIDIA GeForce RTX 3060 ...  WDDM  |   00000000:01:00.0 Off |                  N/A |\n",
      "| N/A   46C    P8              9W /   75W |     163MiB /   6144MiB |      0%      Default |\n",
      "|                                         |                        |                  N/A |\n",
      "+-----------------------------------------+------------------------+----------------------+\n",
      "                                                                                         \n",
      "+-----------------------------------------------------------------------------------------+\n",
      "| Processes:                                                                              |\n",
      "|  GPU   GI   CI              PID   Type   Process name                        GPU Memory |\n",
      "|        ID   ID                                                               Usage      |\n",
      "|=========================================================================================|\n",
      "|    0   N/A  N/A           22176      C   ...s\\Python\\Python310\\python.exe      N/A      |\n",
      "+-----------------------------------------------------------------------------------------+\n"
     ]
    }
   ],
   "source": [
    "!nvidia-smi"
   ]
  },
  {
   "cell_type": "code",
   "execution_count": 2,
   "id": "bf340638",
   "metadata": {},
   "outputs": [],
   "source": [
    "import torch\n",
    "import torch.nn as nn\n",
    "import torch.optim as optim\n",
    "import torchaudio\n",
    "import matplotlib.pyplot as plt\n",
    "import numpy as np\n",
    "import os\n",
    "import pandas as pd\n",
    "import seaborn as sns\n",
    "from sklearn.metrics import confusion_matrix,ConfusionMatrixDisplay\n",
    "from torch.utils.data import Dataset, DataLoader\n",
    "from pathlib import Path\n",
    "import time\n",
    "from tqdm import tqdm\n",
    "\n",
    "import warnings\n",
    "warnings.filterwarnings('ignore')"
   ]
  },
  {
   "cell_type": "markdown",
   "id": "4b934fc7",
   "metadata": {},
   "source": [
    "# Setting"
   ]
  },
  {
   "cell_type": "code",
   "execution_count": 3,
   "id": "ba85ad5a",
   "metadata": {},
   "outputs": [
    {
     "name": "stdout",
     "output_type": "stream",
     "text": [
      "Using device: cuda\n"
     ]
    }
   ],
   "source": [
    "# Set device\n",
    "device = torch.device(\"cuda\" if torch.cuda.is_available() else \"cpu\")\n",
    "print(f\"Using device: {device}\")\n",
    "\n",
    "# Audio Parameters\n",
    "SAMPLE_RATE = 16000  # 16kHz sample rate\n",
    "N_MFCC = 40          # Number of MFCC features\n",
    "N_FFT = 400          # FFT window size\n",
    "HOP_LENGTH = 160     # Hop length for STFT\n",
    "\n",
    "# Path for audio data\n",
    "TRAIN_AUDIO_PATH = 'Data_People/Training/'\n",
    "TEST_AUDIO_PATH = 'Data_People/Testing/'\n",
    "\n",
    "# Classes for classification\n",
    "classes = [\"SUBHANALLAH\", \"ALLAHUAKBAR\", \"ALHAMDULLILAH\"]\n",
    "class_to_idx = {cls: idx for idx, cls in enumerate(classes)}\n",
    "idx_to_class = {idx: cls for idx, cls in enumerate(classes)}"
   ]
  },
  {
   "cell_type": "markdown",
   "id": "409a0831",
   "metadata": {},
   "source": [
    "# Dataset & Feature Extraction"
   ]
  },
  {
   "cell_type": "code",
   "execution_count": 4,
   "id": "e45f05c5",
   "metadata": {},
   "outputs": [],
   "source": [
    "# Audio Dataset Class\n",
    "class AudioWordDataset(Dataset):\n",
    "    def __init__(self, root_dir):\n",
    "        \"\"\"\n",
    "        Args:\n",
    "            root_dir (string): Directory with all the audio files.\n",
    "        \"\"\"\n",
    "        self.root_dir = Path(root_dir)\n",
    "        self.samples = []\n",
    "        \n",
    "        # Check if the root directory exists\n",
    "        if not self.root_dir.exists():\n",
    "            raise FileNotFoundError(f\"Directory {root_dir} does not exist\")\n",
    "        \n",
    "        # Walk through all files in directory\n",
    "        for word_dir in self.root_dir.iterdir():\n",
    "            if word_dir.is_dir() and word_dir.name in classes:\n",
    "                word_class = word_dir.name\n",
    "                for audio_file in word_dir.glob('*.wav'):\n",
    "                    self.samples.append((str(audio_file), class_to_idx[word_class]))\n",
    "        \n",
    "        if len(self.samples) == 0:\n",
    "            print(f\"Warning: No audio files found in {root_dir}\")\n",
    "    \n",
    "    def __len__(self):\n",
    "        return len(self.samples)\n",
    "    \n",
    "    def __getitem__(self, idx):\n",
    "        try:\n",
    "            audio_path, label = self.samples[idx]\n",
    "            \n",
    "            # Load audio with error handling\n",
    "            try:\n",
    "                waveform, sample_rate = torchaudio.load(audio_path)\n",
    "            except Exception as e:\n",
    "                print(f\"Error loading audio file {audio_path}: {e}\")\n",
    "                # Return a dummy waveform and the label\n",
    "                return torch.zeros(1, 16000), label\n",
    "            \n",
    "            # Convert to mono if stereo\n",
    "            if waveform.shape[0] > 1:\n",
    "                waveform = torch.mean(waveform, dim=0, keepdim=True)\n",
    "            \n",
    "            # Ensure minimum length\n",
    "            if waveform.shape[1] < 1000:  # Arbitrary minimum length\n",
    "                waveform = torch.nn.functional.pad(waveform, (0, 1000 - waveform.shape[1]))\n",
    "            \n",
    "            # Limit maximum length to avoid memory issues\n",
    "            max_length = 16000 * 5  # ~5 seconds at 16kHz\n",
    "            if waveform.shape[1] > max_length:\n",
    "                waveform = waveform[:, :max_length]\n",
    "            \n",
    "            # Extract MFCC features directly here to simplify the pipeline\n",
    "            mfcc_transform = torchaudio.transforms.MFCC(\n",
    "                sample_rate=sample_rate,\n",
    "                n_mfcc=N_MFCC,\n",
    "                melkwargs={\n",
    "                    'n_fft': N_FFT,\n",
    "                    'n_mels': 128,\n",
    "                    'hop_length': HOP_LENGTH,\n",
    "                }\n",
    "            )\n",
    "            \n",
    "            # Extract features and normalize\n",
    "            mfcc = mfcc_transform(waveform)\n",
    "            mean = mfcc.mean()\n",
    "            std = mfcc.std()\n",
    "            mfcc = (mfcc - mean) / (std + 1e-10)\n",
    "            \n",
    "            return mfcc, label\n",
    "        \n",
    "        except Exception as e:\n",
    "            print(f\"Error processing sample {idx}: {e}\")\n",
    "            # Return a dummy tensor and the label\n",
    "            return torch.zeros(N_MFCC, 100), 0"
   ]
  },
  {
   "cell_type": "markdown",
   "id": "8824a587",
   "metadata": {},
   "source": [
    "# CNN"
   ]
  },
  {
   "cell_type": "code",
   "execution_count": 6,
   "id": "f9873d01",
   "metadata": {},
   "outputs": [],
   "source": [
    "class AudioCNN(nn.Module):\n",
    "    def __init__(self, n_mfcc=N_MFCC, n_classes=len(classes)):\n",
    "        super(AudioCNN, self).__init__()\n",
    "        \n",
    "        # CNN layers\n",
    "        self.conv1 = nn.Conv2d(1, 32, kernel_size=3, stride=1, padding=1)\n",
    "        self.bn1 = nn.BatchNorm2d(32)\n",
    "        self.pool1 = nn.MaxPool2d(kernel_size=2)\n",
    "        self.relu1 = nn.ReLU()\n",
    "        \n",
    "        self.conv2 = nn.Conv2d(32, 64, kernel_size=3, stride=1, padding=1)\n",
    "        self.bn2 = nn.BatchNorm2d(64)\n",
    "        self.pool2 = nn.MaxPool2d(kernel_size=2)\n",
    "        self.relu2 = nn.ReLU()\n",
    "        \n",
    "        self.conv3 = nn.Conv2d(64, 128, kernel_size=3, stride=1, padding=1)\n",
    "        self.bn3 = nn.BatchNorm2d(128)\n",
    "        self.pool3 = nn.MaxPool2d(kernel_size=2)\n",
    "        self.relu3 = nn.ReLU()\n",
    "        \n",
    "        # Adaptive pooling to handle variable size inputs\n",
    "        self.adaptive_pool = nn.AdaptiveAvgPool2d((4, 4))\n",
    "        \n",
    "        # FC layers with fixed input size due to adaptive pooling\n",
    "        self.fc1 = nn.Linear(128 * 4 * 4, 256)\n",
    "        self.fc_relu = nn.ReLU()\n",
    "        self.dropout = nn.Dropout(0.5)\n",
    "        self.fc2 = nn.Linear(256, n_classes)\n",
    "    \n",
    "    def forward(self, x):\n",
    "        # Add channel dimension if necessary\n",
    "        if x.dim() == 3:  # [batch, mfcc, time]\n",
    "            x = x.unsqueeze(1)  # [batch, 1, mfcc, time]\n",
    "        \n",
    "        # CNN\n",
    "        x = self.pool1(self.relu1(self.bn1(self.conv1(x))))\n",
    "        x = self.pool2(self.relu2(self.bn2(self.conv2(x))))\n",
    "        x = self.pool3(self.relu3(self.bn3(self.conv3(x))))\n",
    "        \n",
    "        # Adaptive pooling to handle variable sizes\n",
    "        x = self.adaptive_pool(x)\n",
    "        \n",
    "        # Flatten\n",
    "        x = x.view(x.size(0), -1)\n",
    "        \n",
    "        # FC\n",
    "        x = self.fc_relu(self.fc1(x))\n",
    "        x = self.dropout(x)\n",
    "        x = self.fc2(x)\n",
    "        \n",
    "        return x"
   ]
  },
  {
   "cell_type": "code",
   "execution_count": 7,
   "id": "17699abc",
   "metadata": {},
   "outputs": [],
   "source": [
    "# collate function for DataLoader\n",
    "def collate_fn(batch):\n",
    "    # filter out None values\n",
    "    batch = [(mfcc, label) for mfcc, label in batch if mfcc is not None]\n",
    "    \n",
    "    if len(batch) == 0:\n",
    "        return torch.zeros(0, 1, N_MFCC, 100).to(device), torch.zeros(0).long().to(device)\n",
    "    \n",
    "    # Separate features and labels\n",
    "    features, labels = zip(*batch)\n",
    "    \n",
    "    # Max length in the time dimension\n",
    "    max_length = max([feature.shape[2] for feature in features])\n",
    "    \n",
    "    # Pad sequences to max length\n",
    "    padded_features = []\n",
    "    for feature in features:\n",
    "        padding_size = max_length - feature.shape[2]\n",
    "        if padding_size > 0:\n",
    "            padded_feature = torch.nn.functional.pad(feature, (0, padding_size))\n",
    "        else:\n",
    "            padded_feature = feature\n",
    "        padded_features.append(padded_feature)\n",
    "    \n",
    "    # Stack tensors\n",
    "    features_tensor = torch.stack(padded_features)\n",
    "    labels_tensor = torch.tensor(labels, dtype=torch.long)\n",
    "    \n",
    "    return features_tensor, labels_tensor\n"
   ]
  },
  {
   "cell_type": "markdown",
   "id": "0d055685",
   "metadata": {},
   "source": [
    "# Data Loader\n"
   ]
  },
  {
   "cell_type": "code",
   "execution_count": 8,
   "id": "708e061d",
   "metadata": {},
   "outputs": [],
   "source": [
    "def create_dataloaders(batch_size=16):\n",
    "    try:\n",
    "        train_dataset = AudioWordDataset(TRAIN_AUDIO_PATH)\n",
    "        test_dataset = AudioWordDataset(TEST_AUDIO_PATH)\n",
    "        \n",
    "        print(f\"Training samples: {len(train_dataset)}\")\n",
    "        print(f\"Testing samples: {len(test_dataset)}\")\n",
    "        \n",
    "        if len(train_dataset) == 0 or len(test_dataset) == 0:\n",
    "            raise ValueError(\"One or both datasets are empty\")\n",
    "        \n",
    "        train_loader = DataLoader(\n",
    "            train_dataset, \n",
    "            batch_size=batch_size, \n",
    "            shuffle=True,\n",
    "            collate_fn=collate_fn,\n",
    "            num_workers=0,  \n",
    "            pin_memory=True if torch.cuda.is_available() else False\n",
    "        )\n",
    "        \n",
    "        test_loader = DataLoader(\n",
    "            test_dataset, \n",
    "            batch_size=batch_size, \n",
    "            shuffle=False,\n",
    "            collate_fn=collate_fn,\n",
    "            num_workers=0,  \n",
    "            pin_memory=True if torch.cuda.is_available() else False\n",
    "        )\n",
    "        \n",
    "        return train_loader, test_loader\n",
    "    \n",
    "    except Exception as e:\n",
    "        print(f\"Error creating data loaders: {e}\")\n",
    "        raise\n"
   ]
  },
  {
   "cell_type": "markdown",
   "id": "a5590688",
   "metadata": {},
   "source": [
    "# Train & Validate"
   ]
  },
  {
   "cell_type": "code",
   "execution_count": 9,
   "id": "4189b406",
   "metadata": {},
   "outputs": [],
   "source": [
    "# Train in one epoch function\n",
    "def train_one_epoch(model, train_loader, loss_fn, optimizer, device):\n",
    "    model.train()\n",
    "    train_loss, train_correct = 0, 0\n",
    "\n",
    "    for inputs, labels in train_loader:\n",
    "        inputs, labels = inputs.to(device), labels.to(device)\n",
    "\n",
    "        optimizer.zero_grad()\n",
    "        outputs = model(inputs)\n",
    "        loss = loss_fn(outputs, labels)\n",
    "        loss.backward()\n",
    "        optimizer.step()\n",
    "\n",
    "        train_loss += loss.item() * inputs.size(0)\n",
    "        _, predictions = torch.max(outputs, 1)\n",
    "        train_correct += torch.sum(predictions == labels.data)\n",
    "\n",
    "    return train_loss / len(train_loader.dataset), train_correct.double() / len(train_loader.dataset) # type: ignore\n",
    "\n",
    "def validate(model, val_loader, loss_fn, device, return_preds=False):\n",
    "    model.eval()\n",
    "    val_loss, val_correct = 0, 0\n",
    "    y_true, y_pred = [], []\n",
    "\n",
    "    with torch.no_grad():\n",
    "        for inputs, labels in val_loader:\n",
    "            inputs, labels = inputs.to(device), labels.to(device)\n",
    "            outputs = model(inputs)\n",
    "            loss = loss_fn(outputs, labels)\n",
    "\n",
    "            val_loss += loss.item() * inputs.size(0)\n",
    "            _, predictions = torch.max(outputs, 1)\n",
    "            val_correct += torch.sum(predictions == labels.data)\n",
    "\n",
    "            if return_preds:\n",
    "                y_true.extend(labels.cpu().tolist())\n",
    "                y_pred.extend(predictions.cpu().tolist())\n",
    "\n",
    "    if return_preds:\n",
    "        return val_loss / len(val_loader.dataset), val_correct.double() / len(val_loader.dataset), y_pred, y_true # type: ignore\n",
    "    else:\n",
    "        return val_loss / len(val_loader.dataset), val_correct.double() / len(val_loader.dataset) # type: ignore\n",
    "\n",
    "\n",
    "def train_and_validate(model, train_loader, val_loader, loss_fn, optimizer, epochs, device='cuda', patience=10):\n",
    "    model.to(device)\n",
    "    history = {\n",
    "        'train_loss': [],\n",
    "        'train_accuracy': [],\n",
    "        'val_loss': [],\n",
    "        'val_accuracy': []\n",
    "    }\n",
    "\n",
    "    best_val_accuracy = 0.0\n",
    "    counter = 0\n",
    "\n",
    "    for epoch in tqdm(range(epochs), desc=\"Training Progress\", leave=True):\n",
    "        epoch_start_time = time.time()\n",
    "\n",
    "        # Training for one epoch\n",
    "        train_loss, train_accuracy = train_one_epoch(model, train_loader, loss_fn, optimizer, device)\n",
    "        val_loss, val_accuracy = validate(model, val_loader, loss_fn, device) # type: ignore\n",
    "\n",
    "        # Update history\n",
    "        history['train_loss'].append(train_loss)\n",
    "        history['train_accuracy'].append(train_accuracy.item())\n",
    "        history['val_loss'].append(val_loss)\n",
    "        history['val_accuracy'].append(val_accuracy.item())\n",
    "\n",
    "        epoch_end_time = time.time()\n",
    "\n",
    "        # Display training progress\n",
    "        tqdm.write(f'Epoch {epoch+1}/{epochs}: Train loss: {train_loss:.4f}, Train accuracy: {train_accuracy:.4f}, '\n",
    "                   f'Val loss: {val_loss:.4f}, Val accuracy: {val_accuracy:.4f}, '\n",
    "                   f'Time: {(epoch_end_time - epoch_start_time):.2f}s')\n",
    "\n",
    "        # Early stopping based on validation accuracy\n",
    "        if val_accuracy > best_val_accuracy:\n",
    "            best_val_accuracy = val_accuracy\n",
    "            counter = 0\n",
    "            # Save the model with the best validation accuracy\n",
    "            torch.save(model.state_dict(), 'best_model.pth')\n",
    "        else:\n",
    "            counter += 1\n",
    "            if counter >= patience:\n",
    "                print(f\"Early stopping triggered at epoch {epoch+1}\")\n",
    "                break\n",
    "\n",
    "    # Load the best model before returning\n",
    "    model.load_state_dict(torch.load('best_model.pth'))\n",
    "    return model, history\n",
    "\n",
    "\n"
   ]
  },
  {
   "cell_type": "markdown",
   "id": "65b24a5d",
   "metadata": {},
   "source": [
    "# Analysis"
   ]
  },
  {
   "cell_type": "code",
   "execution_count": 10,
   "id": "4779a5c2",
   "metadata": {},
   "outputs": [],
   "source": [
    "# Plot metrics\n",
    "\n",
    "def plot_metrics(train_losses, val_losses, train_accs, val_accs):\n",
    "    try:\n",
    "        fig, (ax1, ax2) = plt.subplots(1, 2, figsize=(15, 5))\n",
    "        \n",
    "        # Plot losses\n",
    "        ax1.plot(train_losses, label='Training Loss')\n",
    "        ax1.plot(val_losses, label='Validation Loss')\n",
    "        ax1.set_xlabel('Epoch')\n",
    "        ax1.set_ylabel('Loss')\n",
    "        ax1.set_title('Training and Validation Loss')\n",
    "        ax1.legend()\n",
    "        \n",
    "        # Plot accuracies\n",
    "        ax2.plot(train_accs, label='Training Accuracy')\n",
    "        ax2.plot(val_accs, label='Validation Accuracy')\n",
    "        ax2.set_xlabel('Epoch')\n",
    "        ax2.set_ylabel('Accuracy (%)')\n",
    "        ax2.set_title('Training and Validation Accuracy')\n",
    "        ax2.legend()\n",
    "        \n",
    "        plt.tight_layout()\n",
    "        plt.show()\n",
    "    except Exception as e:\n",
    "        print(f\"Error plotting metrics: {e}\")\n"
   ]
  },
  {
   "cell_type": "code",
   "execution_count": 11,
   "id": "9648d020",
   "metadata": {},
   "outputs": [],
   "source": [
    "# Plot confusion matrix\n",
    "\n",
    "def plot_confusion_matrix(y_true, y_pred):\n",
    "    try:\n",
    "        if len(y_true) == 0 or len(y_pred) == 0:\n",
    "            print(\"No data to create confusion matrix\")\n",
    "            return\n",
    "        \n",
    "        cm = confusion_matrix(y_true, y_pred)\n",
    "        plt.figure(figsize=(10, 8))\n",
    "        sns.heatmap(\n",
    "            cm, \n",
    "            annot=True, \n",
    "            fmt='d', \n",
    "            cmap='Blues',\n",
    "            xticklabels=classes,\n",
    "            yticklabels=classes\n",
    "        )\n",
    "        plt.xlabel('Predicted')\n",
    "        plt.ylabel('True')\n",
    "        plt.title('Confusion Matrix')\n",
    "        plt.tight_layout()\n",
    "        plt.show()\n",
    "        \n",
    "        # Calculate class-wise accuracy\n",
    "        class_acc = cm.diagonal() / cm.sum(axis=1) * 100\n",
    "        for i, acc in enumerate(class_acc):\n",
    "            print(f'Accuracy for class {idx_to_class[i]}: {acc:.2f}%')\n",
    "        \n",
    "    except Exception as e:\n",
    "        print(f\"Error plotting confusion matrix: {e}\")\n"
   ]
  },
  {
   "cell_type": "markdown",
   "id": "d1dc74e2",
   "metadata": {},
   "source": [
    "# Main"
   ]
  },
  {
   "cell_type": "code",
   "execution_count": 12,
   "id": "e7fc4966",
   "metadata": {},
   "outputs": [],
   "source": [
    "# Hyperparameters\n",
    "\n",
    "batch_size = 8  \n",
    "learning_rate = 0.003\n",
    "num_epochs = 50"
   ]
  },
  {
   "cell_type": "code",
   "execution_count": null,
   "id": "3e6c2299",
   "metadata": {},
   "outputs": [
    {
     "name": "stdout",
     "output_type": "stream",
     "text": [
      "Training samples: 72\n",
      "Testing samples: 18\n"
     ]
    }
   ],
   "source": [
    "# Create data loaders with error handling\n",
    "\n",
    "train_loader, test_loader = create_dataloaders(batch_size) "
   ]
  },
  {
   "cell_type": "code",
   "execution_count": 14,
   "id": "0a8765a7",
   "metadata": {},
   "outputs": [
    {
     "name": "stdout",
     "output_type": "stream",
     "text": [
      "Sample batch shape: torch.Size([8, 1, 40, 360]), Labels: torch.Size([8])\n"
     ]
    }
   ],
   "source": [
    "# Sample a batch to verify data shape before proceeding\n",
    "\n",
    "for inputs, labels in train_loader:\n",
    "    print(f\"Sample batch shape: {inputs.shape}, Labels: {labels.shape}\")\n",
    "    break"
   ]
  },
  {
   "cell_type": "code",
   "execution_count": 15,
   "id": "80508ed3",
   "metadata": {},
   "outputs": [],
   "source": [
    "\n",
    "model = AudioCNN().to(device)\n",
    "criterion = nn.CrossEntropyLoss()\n",
    "optimizer = optim.Adam(model.parameters(), lr=learning_rate)"
   ]
  },
  {
   "cell_type": "code",
   "execution_count": 17,
   "id": "1ea5a97f",
   "metadata": {},
   "outputs": [
    {
     "name": "stderr",
     "output_type": "stream",
     "text": [
      "Training Progress:   2%|▏         | 1/50 [00:00<00:39,  1.25it/s]"
     ]
    },
    {
     "name": "stdout",
     "output_type": "stream",
     "text": [
      "Epoch 1/50: Train loss: 1.1224, Train accuracy: 0.3472, Val loss: 1.1209, Val accuracy: 0.4444, Time: 0.78s\n"
     ]
    },
    {
     "name": "stderr",
     "output_type": "stream",
     "text": [
      "Training Progress:   4%|▍         | 2/50 [00:01<00:38,  1.24it/s]"
     ]
    },
    {
     "name": "stdout",
     "output_type": "stream",
     "text": [
      "Epoch 2/50: Train loss: 1.0819, Train accuracy: 0.4306, Val loss: 1.1108, Val accuracy: 0.2222, Time: 0.80s\n"
     ]
    },
    {
     "name": "stderr",
     "output_type": "stream",
     "text": [
      "Training Progress:   6%|▌         | 3/50 [00:02<00:36,  1.27it/s]"
     ]
    },
    {
     "name": "stdout",
     "output_type": "stream",
     "text": [
      "Epoch 3/50: Train loss: 1.1064, Train accuracy: 0.3750, Val loss: 1.1257, Val accuracy: 0.2778, Time: 0.75s\n"
     ]
    },
    {
     "name": "stderr",
     "output_type": "stream",
     "text": [
      "Training Progress:   8%|▊         | 4/50 [00:02<00:32,  1.42it/s]"
     ]
    },
    {
     "name": "stdout",
     "output_type": "stream",
     "text": [
      "Epoch 4/50: Train loss: 1.1482, Train accuracy: 0.3611, Val loss: 1.1207, Val accuracy: 0.5000, Time: 0.56s\n"
     ]
    },
    {
     "name": "stderr",
     "output_type": "stream",
     "text": [
      "Training Progress:  10%|█         | 5/50 [00:03<00:30,  1.49it/s]"
     ]
    },
    {
     "name": "stdout",
     "output_type": "stream",
     "text": [
      "Epoch 5/50: Train loss: 1.0766, Train accuracy: 0.3472, Val loss: 1.1108, Val accuracy: 0.3333, Time: 0.61s\n"
     ]
    },
    {
     "name": "stderr",
     "output_type": "stream",
     "text": [
      "Training Progress:  12%|█▏        | 6/50 [00:04<00:30,  1.45it/s]"
     ]
    },
    {
     "name": "stdout",
     "output_type": "stream",
     "text": [
      "Epoch 6/50: Train loss: 1.0857, Train accuracy: 0.4306, Val loss: 1.1363, Val accuracy: 0.5000, Time: 0.72s\n"
     ]
    },
    {
     "name": "stderr",
     "output_type": "stream",
     "text": [
      "Training Progress:  14%|█▍        | 7/50 [00:04<00:28,  1.51it/s]"
     ]
    },
    {
     "name": "stdout",
     "output_type": "stream",
     "text": [
      "Epoch 7/50: Train loss: 1.0405, Train accuracy: 0.5139, Val loss: 1.0956, Val accuracy: 0.3889, Time: 0.60s\n"
     ]
    },
    {
     "name": "stderr",
     "output_type": "stream",
     "text": [
      "Training Progress:  16%|█▌        | 8/50 [00:05<00:26,  1.56it/s]"
     ]
    },
    {
     "name": "stdout",
     "output_type": "stream",
     "text": [
      "Epoch 8/50: Train loss: 1.0075, Train accuracy: 0.4444, Val loss: 1.1021, Val accuracy: 0.4444, Time: 0.59s\n"
     ]
    },
    {
     "name": "stderr",
     "output_type": "stream",
     "text": [
      "Training Progress:  18%|█▊        | 9/50 [00:06<00:26,  1.55it/s]"
     ]
    },
    {
     "name": "stdout",
     "output_type": "stream",
     "text": [
      "Epoch 9/50: Train loss: 1.0218, Train accuracy: 0.4583, Val loss: 1.0295, Val accuracy: 0.5000, Time: 0.65s\n"
     ]
    },
    {
     "name": "stderr",
     "output_type": "stream",
     "text": [
      "Training Progress:  20%|██        | 10/50 [00:07<00:29,  1.34it/s]"
     ]
    },
    {
     "name": "stdout",
     "output_type": "stream",
     "text": [
      "Epoch 10/50: Train loss: 0.8607, Train accuracy: 0.6111, Val loss: 0.9045, Val accuracy: 0.5000, Time: 0.97s\n"
     ]
    },
    {
     "name": "stderr",
     "output_type": "stream",
     "text": [
      "Training Progress:  22%|██▏       | 11/50 [00:08<00:31,  1.25it/s]"
     ]
    },
    {
     "name": "stdout",
     "output_type": "stream",
     "text": [
      "Epoch 11/50: Train loss: 0.7750, Train accuracy: 0.6667, Val loss: 0.7096, Val accuracy: 0.6667, Time: 0.91s\n"
     ]
    },
    {
     "name": "stderr",
     "output_type": "stream",
     "text": [
      "Training Progress:  24%|██▍       | 12/50 [00:08<00:29,  1.27it/s]"
     ]
    },
    {
     "name": "stdout",
     "output_type": "stream",
     "text": [
      "Epoch 12/50: Train loss: 0.5122, Train accuracy: 0.7778, Val loss: 0.5841, Val accuracy: 0.7778, Time: 0.73s\n"
     ]
    },
    {
     "name": "stderr",
     "output_type": "stream",
     "text": [
      "Training Progress:  26%|██▌       | 13/50 [00:09<00:28,  1.29it/s]"
     ]
    },
    {
     "name": "stdout",
     "output_type": "stream",
     "text": [
      "Epoch 13/50: Train loss: 0.5773, Train accuracy: 0.7083, Val loss: 0.4457, Val accuracy: 0.7222, Time: 0.74s\n"
     ]
    },
    {
     "name": "stderr",
     "output_type": "stream",
     "text": [
      "Training Progress:  28%|██▊       | 14/50 [00:10<00:27,  1.32it/s]"
     ]
    },
    {
     "name": "stdout",
     "output_type": "stream",
     "text": [
      "Epoch 14/50: Train loss: 0.5684, Train accuracy: 0.7222, Val loss: 0.7012, Val accuracy: 0.6111, Time: 0.72s\n"
     ]
    },
    {
     "name": "stderr",
     "output_type": "stream",
     "text": [
      "Training Progress:  30%|███       | 15/50 [00:11<00:26,  1.32it/s]"
     ]
    },
    {
     "name": "stdout",
     "output_type": "stream",
     "text": [
      "Epoch 15/50: Train loss: 0.5106, Train accuracy: 0.7222, Val loss: 0.3313, Val accuracy: 0.8889, Time: 0.73s\n"
     ]
    },
    {
     "name": "stderr",
     "output_type": "stream",
     "text": [
      "Training Progress:  32%|███▏      | 16/50 [00:11<00:24,  1.40it/s]"
     ]
    },
    {
     "name": "stdout",
     "output_type": "stream",
     "text": [
      "Epoch 16/50: Train loss: 0.4231, Train accuracy: 0.8056, Val loss: 0.2367, Val accuracy: 0.9444, Time: 0.59s\n"
     ]
    },
    {
     "name": "stderr",
     "output_type": "stream",
     "text": [
      "Training Progress:  34%|███▍      | 17/50 [00:12<00:23,  1.39it/s]"
     ]
    },
    {
     "name": "stdout",
     "output_type": "stream",
     "text": [
      "Epoch 17/50: Train loss: 0.3991, Train accuracy: 0.8333, Val loss: 0.3451, Val accuracy: 0.8889, Time: 0.73s\n"
     ]
    },
    {
     "name": "stderr",
     "output_type": "stream",
     "text": [
      "Training Progress:  36%|███▌      | 18/50 [00:13<00:23,  1.33it/s]"
     ]
    },
    {
     "name": "stdout",
     "output_type": "stream",
     "text": [
      "Epoch 18/50: Train loss: 0.3047, Train accuracy: 0.9028, Val loss: 0.2960, Val accuracy: 0.8889, Time: 0.81s\n"
     ]
    },
    {
     "name": "stderr",
     "output_type": "stream",
     "text": [
      "Training Progress:  38%|███▊      | 19/50 [00:14<00:24,  1.24it/s]"
     ]
    },
    {
     "name": "stdout",
     "output_type": "stream",
     "text": [
      "Epoch 19/50: Train loss: 0.3722, Train accuracy: 0.7917, Val loss: 0.3815, Val accuracy: 0.8333, Time: 0.93s\n"
     ]
    },
    {
     "name": "stderr",
     "output_type": "stream",
     "text": [
      "Training Progress:  40%|████      | 20/50 [00:14<00:23,  1.26it/s]"
     ]
    },
    {
     "name": "stdout",
     "output_type": "stream",
     "text": [
      "Epoch 20/50: Train loss: 0.4229, Train accuracy: 0.8472, Val loss: 0.5808, Val accuracy: 0.7222, Time: 0.76s\n"
     ]
    },
    {
     "name": "stderr",
     "output_type": "stream",
     "text": [
      "Training Progress:  42%|████▏     | 21/50 [00:15<00:23,  1.25it/s]"
     ]
    },
    {
     "name": "stdout",
     "output_type": "stream",
     "text": [
      "Epoch 21/50: Train loss: 0.3151, Train accuracy: 0.8611, Val loss: 0.7839, Val accuracy: 0.6667, Time: 0.80s\n"
     ]
    },
    {
     "name": "stderr",
     "output_type": "stream",
     "text": [
      "Training Progress:  44%|████▍     | 22/50 [00:16<00:21,  1.27it/s]"
     ]
    },
    {
     "name": "stdout",
     "output_type": "stream",
     "text": [
      "Epoch 22/50: Train loss: 0.2631, Train accuracy: 0.8750, Val loss: 0.1397, Val accuracy: 1.0000, Time: 0.73s\n"
     ]
    },
    {
     "name": "stderr",
     "output_type": "stream",
     "text": [
      "Training Progress:  46%|████▌     | 23/50 [00:17<00:21,  1.26it/s]"
     ]
    },
    {
     "name": "stdout",
     "output_type": "stream",
     "text": [
      "Epoch 23/50: Train loss: 0.3924, Train accuracy: 0.8056, Val loss: 0.1064, Val accuracy: 1.0000, Time: 0.81s\n"
     ]
    },
    {
     "name": "stderr",
     "output_type": "stream",
     "text": [
      "Training Progress:  48%|████▊     | 24/50 [00:18<00:20,  1.27it/s]"
     ]
    },
    {
     "name": "stdout",
     "output_type": "stream",
     "text": [
      "Epoch 24/50: Train loss: 0.3061, Train accuracy: 0.8611, Val loss: 0.1948, Val accuracy: 0.9444, Time: 0.75s\n"
     ]
    },
    {
     "name": "stderr",
     "output_type": "stream",
     "text": [
      "Training Progress:  50%|█████     | 25/50 [00:18<00:19,  1.30it/s]"
     ]
    },
    {
     "name": "stdout",
     "output_type": "stream",
     "text": [
      "Epoch 25/50: Train loss: 0.1826, Train accuracy: 0.9444, Val loss: 0.1148, Val accuracy: 1.0000, Time: 0.72s\n"
     ]
    },
    {
     "name": "stderr",
     "output_type": "stream",
     "text": [
      "Training Progress:  52%|█████▏    | 26/50 [00:19<00:17,  1.39it/s]"
     ]
    },
    {
     "name": "stdout",
     "output_type": "stream",
     "text": [
      "Epoch 26/50: Train loss: 0.2530, Train accuracy: 0.8889, Val loss: 0.0887, Val accuracy: 1.0000, Time: 0.61s\n"
     ]
    },
    {
     "name": "stderr",
     "output_type": "stream",
     "text": [
      "Training Progress:  54%|█████▍    | 27/50 [00:20<00:18,  1.26it/s]"
     ]
    },
    {
     "name": "stdout",
     "output_type": "stream",
     "text": [
      "Epoch 27/50: Train loss: 0.2519, Train accuracy: 0.9167, Val loss: 0.1900, Val accuracy: 1.0000, Time: 0.95s\n"
     ]
    },
    {
     "name": "stderr",
     "output_type": "stream",
     "text": [
      "Training Progress:  56%|█████▌    | 28/50 [00:21<00:17,  1.28it/s]"
     ]
    },
    {
     "name": "stdout",
     "output_type": "stream",
     "text": [
      "Epoch 28/50: Train loss: 0.2615, Train accuracy: 0.8333, Val loss: 0.4794, Val accuracy: 0.6667, Time: 0.75s\n"
     ]
    },
    {
     "name": "stderr",
     "output_type": "stream",
     "text": [
      "Training Progress:  58%|█████▊    | 29/50 [00:21<00:16,  1.31it/s]"
     ]
    },
    {
     "name": "stdout",
     "output_type": "stream",
     "text": [
      "Epoch 29/50: Train loss: 0.1725, Train accuracy: 0.9583, Val loss: 0.2714, Val accuracy: 0.7778, Time: 0.72s\n"
     ]
    },
    {
     "name": "stderr",
     "output_type": "stream",
     "text": [
      "Training Progress:  60%|██████    | 30/50 [00:22<00:15,  1.28it/s]"
     ]
    },
    {
     "name": "stdout",
     "output_type": "stream",
     "text": [
      "Epoch 30/50: Train loss: 0.2137, Train accuracy: 0.9167, Val loss: 0.0730, Val accuracy: 1.0000, Time: 0.81s\n"
     ]
    },
    {
     "name": "stderr",
     "output_type": "stream",
     "text": [
      "Training Progress:  62%|██████▏   | 31/50 [00:23<00:16,  1.18it/s]"
     ]
    },
    {
     "name": "stdout",
     "output_type": "stream",
     "text": [
      "Epoch 31/50: Train loss: 0.2020, Train accuracy: 0.9444, Val loss: 0.0957, Val accuracy: 1.0000, Time: 1.01s\n"
     ]
    },
    {
     "name": "stderr",
     "output_type": "stream",
     "text": [
      "Training Progress:  62%|██████▏   | 31/50 [00:24<00:15,  1.26it/s]"
     ]
    },
    {
     "name": "stdout",
     "output_type": "stream",
     "text": [
      "Epoch 32/50: Train loss: 0.1981, Train accuracy: 0.9028, Val loss: 0.1002, Val accuracy: 1.0000, Time: 0.87s\n",
      "Early stopping triggered at epoch 32\n"
     ]
    },
    {
     "name": "stderr",
     "output_type": "stream",
     "text": [
      "\n"
     ]
    }
   ],
   "source": [
    "model, history = train_and_validate(model, train_loader, test_loader, criterion, optimizer, num_epochs, device) # type: ignore\n"
   ]
  },
  {
   "cell_type": "code",
   "execution_count": 18,
   "id": "41a38722",
   "metadata": {},
   "outputs": [
    {
     "name": "stdout",
     "output_type": "stream",
     "text": [
      "Test Loss: 0.1397\n",
      "Test Accuracy: 1.0000\n"
     ]
    },
    {
     "data": {
      "image/png": "[encoded data removed]",
      "text/plain": [
       "<Figure size 640x480 with 2 Axes>"
      ]
     },
     "metadata": {},
     "output_type": "display_data"
    },
    {
     "data": {
      "image/png": "[encoded data removed]",
      "text/plain": [
       "<Figure size 1500x500 with 2 Axes>"
      ]
     },
     "metadata": {},
     "output_type": "display_data"
    }
   ],
   "source": [
    "# Final evaluation on test set\n",
    "\n",
    "val_loss, val_accuracy, y_pred, y_true = validate(model, test_loader, criterion, device, return_preds=True) # type: ignore\n",
    "\n",
    "# Accuracy\n",
    "print(f'Test Loss: {val_loss:.4f}')\n",
    "print(f'Test Accuracy: {val_accuracy:.4f}')\n",
    "\n",
    "# Confusion Matrix\n",
    "cm = confusion_matrix(y_true, y_pred)\n",
    "disp = ConfusionMatrixDisplay(confusion_matrix=cm, display_labels= classes)\n",
    "disp.plot(cmap='Blues')\n",
    "plt.title('Confusion Matrix')\n",
    "plt.show()\n",
    "\n",
    "# Plot training/validation metrics\n",
    "plot_metrics(history['train_loss'], history['val_loss'],\n",
    "             history['train_accuracy'], history['val_accuracy'])\n"
   ]
  },
  {
   "cell_type": "markdown",
   "id": "dcb47834",
   "metadata": {},
   "source": [
    "# Discussion"
   ]
  },
  {
   "cell_type": "markdown",
   "id": "b541167b",
   "metadata": {},
   "source": [
    "This is my second model after learning CNN, for CNN it look like it perform much better and this is the one I spend most of the time with by debugging, the way this code work is by using CNN and then merge it with data loader with collate to merge the list into mini-list since the waveform might have different length. then by tuning the parameter I got this result. "
   ]
  },
  {
   "cell_type": "markdown",
   "id": "9e7be762",
   "metadata": {},
   "source": [
    "For the dataset, since I record using a phone via whatsapp so the file it come is Opus format. so an additional python code is needed to convert the opus to wav file format. Which can be view under \"Convert.py\". the way it work is basically using ffmpeg to convert opus file into wav"
   ]
  },
  {
   "cell_type": "markdown",
   "id": "dda72f33",
   "metadata": {},
   "source": [
    "Data for this project can be get from here [Dataset](https://drive.google.com/drive/folders/1ddzV1WU-A-8O9MZezsYEl_nA8Fb5WX1b?usp=drive_link), it had multiple of folder which is training & testing which use as path for the model and Raw which had file before being convert(opus file format).\n"
   ]
  },
  {
   "cell_type": "markdown",
   "id": "2740466c",
   "metadata": {},
   "source": [
    "For Full Trial and error code is under [Github](https://github.com/KimieCrafter/AI-Note-IIUM), Thank You!!\n"
   ]
  }
 ],
 "metadata": {
  "kernelspec": {
   "display_name": "venv",
   "language": "python",
   "name": "python3"
  },
  "language_info": {
   "codemirror_mode": {
    "name": "ipython",
    "version": 3
   },
   "file_extension": ".py",
   "mimetype": "text/x-python",
   "name": "python",
   "nbconvert_exporter": "python",
   "pygments_lexer": "ipython3",
   "version": "3.10.0"
  }
 },
 "nbformat": 4,
 "nbformat_minor": 5
}
