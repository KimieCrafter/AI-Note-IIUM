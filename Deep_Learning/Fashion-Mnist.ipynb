{
  "cells": [
    {
      "cell_type": "markdown",
      "metadata": {
        "colab_type": "text",
        "id": "view-in-github"
      },
      "source": [
        "<a href=\"https://colab.research.google.com/github/hasanzaki/DeepLearning/blob/main/06_Train_a_FFNN_new.ipynb\" target=\"_parent\"><img src=\"https://colab.research.google.com/assets/colab-badge.svg\" alt=\"Open In Colab\"/></a>"
      ]
    },
    {
      "cell_type": "markdown",
      "metadata": {
        "id": "WG0eAc0mFWrA"
      },
      "source": [
        "# Train a Neural Network\n",
        "\n",
        "Here we will use Pytorch to build and train a simple neural network step-by-step. Below you will find a sample code, which you will have to finish and execute. But first things first.\n",
        "\n",
        "Let's start with some basic imports:\n",
        "\n",
        "As mentioned during the lesson, we will use a dataset with object images. We will also build a data loader so we can load the images from CIFAR10 dataset.\n",
        "\n",
        "Besides the dataset, we also import `torch`, `numpy` and `torchvision` which is a library to help us with data preperation and transformations."
      ]
    },
    {
      "cell_type": "code",
      "execution_count": 4,
      "metadata": {
        "colab": {
          "base_uri": "https://localhost:8080/"
        },
        "id": "iPimGUlZrPs2",
        "outputId": "9d7603b5-c6d4-42f9-a419-65f9cbf95a6e"
      },
      "outputs": [
        {
          "name": "stdout",
          "output_type": "stream",
          "text": [
            "Thu Apr 10 14:58:55 2025       \n",
            "+-----------------------------------------------------------------------------------------+\n",
            "| NVIDIA-SMI 572.42                 Driver Version: 572.42         CUDA Version: 12.8     |\n",
            "|-----------------------------------------+------------------------+----------------------+\n",
            "| GPU  Name                  Driver-Model | Bus-Id          Disp.A | Volatile Uncorr. ECC |\n",
            "| Fan  Temp   Perf          Pwr:Usage/Cap |           Memory-Usage | GPU-Util  Compute M. |\n",
            "|                                         |                        |               MIG M. |\n",
            "|=========================================+========================+======================|\n",
            "|   0  NVIDIA GeForce RTX 3060 ...  WDDM  |   00000000:01:00.0 Off |                  N/A |\n",
            "| N/A   48C    P0             18W /   75W |       0MiB /   6144MiB |      0%      Default |\n",
            "|                                         |                        |                  N/A |\n",
            "+-----------------------------------------+------------------------+----------------------+\n",
            "                                                                                         \n",
            "+-----------------------------------------------------------------------------------------+\n",
            "| Processes:                                                                              |\n",
            "|  GPU   GI   CI              PID   Type   Process name                        GPU Memory |\n",
            "|        ID   ID                                                               Usage      |\n",
            "|=========================================================================================|\n",
            "|  No running processes found                                                             |\n",
            "+-----------------------------------------------------------------------------------------+\n"
          ]
        }
      ],
      "source": [
        "!nvidia-smi"
      ]
    },
    {
      "cell_type": "code",
      "execution_count": 5,
      "metadata": {
        "id": "UynSOdG7FWrB"
      },
      "outputs": [],
      "source": [
        "import os\n",
        "\n",
        "#Numpy is linear algebra library\n",
        "import numpy as np\n",
        "\n",
        "# Matplotlib is a visualizations library\n",
        "import matplotlib.pyplot as plt\n",
        "\n",
        "# PyTorch is a deep learning library\n",
        "import torch\n",
        "import torch.nn as nn\n",
        "import torch.optim as optim\n",
        "import torchvision\n",
        "import torchvision.transforms as transforms"
      ]
    },
    {
      "cell_type": "code",
      "execution_count": 12,
      "metadata": {},
      "outputs": [
        {
          "name": "stdout",
          "output_type": "stream",
          "text": [
            "1\n",
            "True\n",
            "0\n"
          ]
        }
      ],
      "source": [
        "print(torch.cuda.device_count())  # Number of GPUs available\n",
        "print(torch.cuda.is_available())  # Check if GPU is available\n",
        "print(torch.cuda.current_device())  # Current GPU device"
      ]
    },
    {
      "cell_type": "code",
      "execution_count": null,
      "metadata": {
        "id": "Dyb2LS108wMQ"
      },
      "outputs": [
        {
          "name": "stdout",
          "output_type": "stream",
          "text": [
            "Using device: cuda:1\n",
            "GPU name: NVIDIA GeForce RTX 3060 Laptop GPU\n"
          ]
        }
      ],
      "source": [
        "# Check if GPU is available\n",
        "# device = torch.device(\"cuda\" if torch.cuda.is_available() else \"cpu\")\n",
        "device = torch.device('cuda:0' if torch.cuda.is_available() else 'cpu')\n",
        "\n",
        "print(\"Using device:\", device)\n",
        "print(\"GPU name:\", torch.cuda.get_device_name(0))"
      ]
    },
    {
      "cell_type": "markdown",
      "metadata": {
        "id": "BYfbIhXhFWrC"
      },
      "source": [
        "# Load the dataset\n",
        "\n",
        "After loading the images, we have to apply some transformations so we can feed them in the network.\n",
        "Here we simply convert them to tensors and normalize them. This can be done using `transforms` from `torchvision`.\n",
        "\n",
        "All images fall into 1 of 10 categories of things.\n",
        "\n",
        "Let's also plot some of them to make sure that everything works fine."
      ]
    },
    {
      "cell_type": "code",
      "execution_count": 7,
      "metadata": {
        "id": "O8LEtpqVFWrC"
      },
      "outputs": [],
      "source": [
        "#In case you wanna experiment with fashinMNIST dataset\n",
        "\n",
        "transform = transforms.Compose(\n",
        "    [transforms.ToTensor(),\n",
        "     transforms.Normalize((0.5), (0.5))])\n",
        "\n",
        "\n",
        "# batch_size\n",
        "batch_size = 512\n",
        "\n",
        "# datasets\n",
        "trainset = torchvision.datasets.FashionMNIST('./data',\n",
        "    download=True,\n",
        "    train=True,\n",
        "    transform=transform)\n",
        "testset = torchvision.datasets.FashionMNIST('./data',\n",
        "    download=True,\n",
        "    train=False,\n",
        "    transform=transform)\n",
        "\n",
        "# dataloaders\n",
        "trainloader = torch.utils.data.DataLoader(trainset, batch_size=batch_size,\n",
        "                                        shuffle=True,pin_memory=True, num_workers=4)\n",
        "\n",
        "\n",
        "testloader = torch.utils.data.DataLoader(testset, batch_size=batch_size,\n",
        "                                        shuffle=False,pin_memory=True, num_workers=4)\n",
        "\n",
        "# constant for classes\n",
        "classes = ('T-shirt/top', 'Trouser', 'Pullover', 'Dress', 'Coat',\n",
        "        'Sandal', 'Shirt', 'Sneaker', 'Bag', 'Ankle Boot')"
      ]
    },
    {
      "cell_type": "code",
      "execution_count": 8,
      "metadata": {
        "colab": {
          "base_uri": "https://localhost:8080/"
        },
        "id": "Mkea2Xn8FWrC",
        "outputId": "8325d57d-f7cd-41e0-9042-3ce413e326fe"
      },
      "outputs": [
        {
          "name": "stdout",
          "output_type": "stream",
          "text": [
            "60000\n",
            "10000\n"
          ]
        }
      ],
      "source": [
        "train_data_size = len(trainloader.dataset) # type: ignore\n",
        "test_data_size = len(testloader.dataset) # type: ignore\n",
        "\n",
        "print(train_data_size)\n",
        "print(test_data_size)"
      ]
    },
    {
      "cell_type": "code",
      "execution_count": 9,
      "metadata": {
        "colab": {
          "base_uri": "https://localhost:8080/",
          "height": 209
        },
        "id": "ips7SxKkFWrC",
        "outputId": "32412fed-d095-40ed-dc7f-10dae855b169"
      },
      "outputs": [],
      "source": [
        "# import matplotlib.pyplot as plt\n",
        "# import numpy as np\n",
        "\n",
        "# # functions to show an image\n",
        "\n",
        "# def imshow(img):\n",
        "#     img = img / 2 + 0.5     # unnormalize\n",
        "#     npimg = img.numpy()\n",
        "#     plt.imshow(np.transpose(npimg, (1, 2, 0)))\n",
        "#     plt.show()\n",
        "\n",
        "\n",
        "# # get some random training images\n",
        "# dataiter = iter(trainloader)\n",
        "# images, labels = next(dataiter)\n",
        "# images, labels = images.to('cpu'), labels.to('cpu')  # Ensure tensors are on CPU for visualization\n",
        "\n",
        "# # show images\n",
        "# imshow(torchvision.utils.make_grid(images))\n",
        "# # print labels\n",
        "# print(' '.join(f'{classes[labels[j]]:5s}' for j in range(batch_size)))"
      ]
    },
    {
      "cell_type": "markdown",
      "metadata": {
        "id": "4UyHYgbPFWrD"
      },
      "source": [
        "# Build and train the model\n",
        "And now for the good stuff. Let's define and train the model. This is where you will have to take action.\n",
        "\n",
        "First you need to define a network that recieves and an input of size 3072, has 3 linear layers with dimensions 128,64,10, and 2 Relu layers in between.\n",
        "\n",
        "Then you'll need to start the training loop by declaring the `torch.nn.CrossEntropyLoss` as our loss and `torch.optim.SGD` as our optimizer. Finally, you'll build the training loop and execute 1 or more training epochs."
      ]
    },
    {
      "cell_type": "code",
      "execution_count": null,
      "metadata": {
        "id": "qbnSrs2FFWrD"
      },
      "outputs": [],
      "source": [
        "import torch.nn as nn\n",
        "\n",
        "class myModel(nn.Module):\n",
        "    def __init__(self):\n",
        "        super(myModel, self).__init__()\n",
        "        self.flatten = nn.Flatten()\n",
        "        self.linear1 = nn.Linear(28 * 28, 128) \n",
        "        self.linear2 = nn.Linear(128, 64)\n",
        "        self.linear3 = nn.Linear(64, 10)\n",
        "        self.relu = nn.ReLU()\n",
        "\n",
        "    def forward(self, x):\n",
        "        x = self.flatten(x)\n",
        "        x = self.linear1(x)\n",
        "        x = self.relu(x)\n",
        "        x = self.linear2(x)\n",
        "        x = self.relu(x)\n",
        "        o = self.linear3(x)\n",
        "        return o\n",
        "\n",
        "model = myModel().to(device)"
      ]
    },
    {
      "cell_type": "code",
      "execution_count": null,
      "metadata": {
        "colab": {
          "base_uri": "https://localhost:8080/"
        },
        "id": "LTmc80Qd7dKf",
        "outputId": "ed48ccaf-dd56-4e23-8efd-5346f72b3195"
      },
      "outputs": [
        {
          "name": "stdout",
          "output_type": "stream",
          "text": [
            "----------------------------------------------------------------\n",
            "        Layer (type)               Output Shape         Param #\n",
            "================================================================\n",
            "           Flatten-1                  [-1, 784]               0\n",
            "            Linear-2                  [-1, 128]         100,480\n",
            "              ReLU-3                  [-1, 128]               0\n",
            "            Linear-4                   [-1, 64]           8,256\n",
            "              ReLU-5                   [-1, 64]               0\n",
            "            Linear-6                   [-1, 10]             650\n",
            "================================================================\n",
            "Total params: 109,386\n",
            "Trainable params: 109,386\n",
            "Non-trainable params: 0\n",
            "----------------------------------------------------------------\n",
            "Input size (MB): 0.00\n",
            "Forward/backward pass size (MB): 0.01\n",
            "Params size (MB): 0.42\n",
            "Estimated Total Size (MB): 0.43\n",
            "----------------------------------------------------------------\n"
          ]
        }
      ],
      "source": [
        "from torchsummary import summary\n",
        "\n",
        "summary(model, input_size=(1, 28, 28))\n"
      ]
    },
    {
      "cell_type": "code",
      "execution_count": null,
      "metadata": {
        "colab": {
          "base_uri": "https://localhost:8080/",
          "height": 492
        },
        "id": "czzenSJT7m2E",
        "outputId": "c7355b24-039f-40d5-b7b3-ff6802cace82"
      },
      "outputs": [
        {
          "data": {
            "text/plain": [
              "'model_graph_FashionMnist.png'"
            ]
          },
          "execution_count": 15,
          "metadata": {},
          "output_type": "execute_result"
        }
      ],
      "source": [
        "from torchviz import make_dot\n",
        "import torch\n",
        "\n",
        "# (1 channel, 28x28)\n",
        "x = torch.randn(1, 1, 28, 28).to(device)\n",
        "y = model(x)\n",
        "\n",
        "# Create and render the graph\n",
        "make_dot(y.mean(), params=dict(model.named_parameters())).render(\"model_graph_FashionMnist\", format=\"png\")\n"
      ]
    },
    {
      "cell_type": "code",
      "execution_count": null,
      "metadata": {
        "colab": {
          "base_uri": "https://localhost:8080/"
        },
        "id": "bW2BcvUrFWrE",
        "outputId": "1c233637-5aa4-4435-ae94-0135e6f75bb5"
      },
      "outputs": [
        {
          "name": "stdout",
          "output_type": "stream",
          "text": [
            "Using device: cuda:0\n"
          ]
        }
      ],
      "source": [
        "# 2. LOSS AND OPTIMIZER\n",
        "loss_fn = nn.CrossEntropyLoss()\n",
        "optimizer = optim.SGD(model.parameters(), lr=0.0005, momentum=0.9)\n",
        "\n",
        "# 3. move the model to GPU\n",
        "device = torch.device('cuda:0' if torch.cuda.is_available() else 'cpu') # cuda:0 is the first GPU\n",
        "model.to(device)\n",
        "\n",
        "print(\"Using device:\", device)"
      ]
    },
    {
      "cell_type": "code",
      "execution_count": null,
      "metadata": {
        "id": "bexeuCGvkimP"
      },
      "outputs": [
        {
          "name": "stderr",
          "output_type": "stream",
          "text": [
            "c:\\IIUM\\AI Note IIUM\\venv\\lib\\site-packages\\tqdm\\auto.py:21: TqdmWarning: IProgress not found. Please update jupyter and ipywidgets. See https://ipywidgets.readthedocs.io/en/stable/user_install.html\n",
            "  from .autonotebook import tqdm as notebook_tqdm\n"
          ]
        }
      ],
      "source": [
        "import time\n",
        "from tqdm.auto import tqdm"
      ]
    },
    {
      "cell_type": "code",
      "execution_count": null,
      "metadata": {
        "id": "-xvMqUxnFWrE"
      },
      "outputs": [
        {
          "ename": "",
          "evalue": "",
          "output_type": "error",
          "traceback": [
            "\u001b[1;31mThe Kernel crashed while executing code in the current cell or a previous cell. \n",
            "\u001b[1;31mPlease review the code in the cell(s) to identify a possible cause of the failure. \n",
            "\u001b[1;31mClick <a href='https://aka.ms/vscodeJupyterKernelCrash'>here</a> for more info. \n",
            "\u001b[1;31mView Jupyter <a href='command:jupyter.viewOutput'>log</a> for further details."
          ]
        }
      ],
      "source": [
        "# Train in one epoch function\n",
        "def train_one_epoch(model, train_loader, loss_fn, optimizer, device):\n",
        "    model.train()\n",
        "    train_loss, train_correct = 0, 0\n",
        "\n",
        "    for inputs, labels in train_loader:\n",
        "        inputs, labels = inputs.to(device), labels.to(device)\n",
        "\n",
        "        optimizer.zero_grad()\n",
        "        outputs = model(inputs)\n",
        "        loss = loss_fn(outputs, labels)\n",
        "        loss.backward()\n",
        "        optimizer.step()\n",
        "\n",
        "        train_loss += loss.item() * inputs.size(0)\n",
        "        _, predictions = torch.max(outputs, 1)\n",
        "        train_correct += torch.sum(predictions == labels.data)\n",
        "\n",
        "    return train_loss / len(train_loader.dataset), train_correct.double() / len(train_loader.dataset) # type: ignore\n",
        "\n",
        "# Validation function\n",
        "def validate(model, val_loader, loss_fn, device):\n",
        "    model.eval()\n",
        "    val_loss, val_correct = 0, 0\n",
        "\n",
        "    with torch.no_grad():\n",
        "        for inputs, labels in val_loader:\n",
        "            inputs, labels = inputs.to(device), labels.to(device)\n",
        "            outputs = model(inputs)\n",
        "            loss = loss_fn(outputs, labels)\n",
        "\n",
        "            val_loss += loss.item() * inputs.size(0)\n",
        "            _, predictions = torch.max(outputs, 1)\n",
        "            val_correct += torch.sum(predictions == labels.data)\n",
        "\n",
        "    return val_loss / len(val_loader.dataset), val_correct.double() / len(val_loader.dataset) # type: ignore\n",
        "\n",
        "# Training and validation loop with timing\n",
        "def train_and_validate(model, train_loader, val_loader, loss_fn, optimizer, epochs, device='cuda'):\n",
        "    model.to(device)\n",
        "    history = {\n",
        "        'train_loss': [],\n",
        "        'train_accuracy': [],\n",
        "        'val_loss': [],\n",
        "        'val_accuracy': []\n",
        "    }\n",
        "\n",
        "    for epoch in tqdm(range(epochs), desc=\"Training Progress\", leave=True):\n",
        "        epoch_start_time = time.time()\n",
        "\n",
        "        train_loss, train_accuracy = train_one_epoch(model, train_loader, loss_fn, optimizer, device)\n",
        "        val_loss, val_accuracy = validate(model, val_loader, loss_fn, device)\n",
        "\n",
        "        history['train_loss'].append(train_loss)\n",
        "        history['train_accuracy'].append(train_accuracy.item())\n",
        "        history['val_loss'].append(val_loss)\n",
        "        history['val_accuracy'].append(val_accuracy.item())\n",
        "\n",
        "        epoch_end_time = time.time()\n",
        "\n",
        "        # Use tqdm.write() instead of print() to avoid extra blank lines\n",
        "        tqdm.write(f'Epoch {epoch+1}/{epochs}: Train loss: {train_loss:.4f}, Train accuracy: {train_accuracy:.4f}, '\n",
        "                   f'Val loss: {val_loss:.4f}, Val accuracy: {val_accuracy:.4f}, '\n",
        "                   f'Time: {(epoch_end_time - epoch_start_time):.2f}s')\n",
        "\n",
        "    return model, history\n"
      ]
    },
    {
      "cell_type": "code",
      "execution_count": null,
      "metadata": {
        "colab": {
          "base_uri": "https://localhost:8080/",
          "height": 223,
          "referenced_widgets": [
            "c1b2d08ea1604592a644bdae6f9ac8ac",
            "f2436d3cdcfe47bb9846c613828a39d2",
            "89163ba5a1b3415dad4b0cce2c2b882b",
            "e2a1da11ee014b399c523434b759f40b",
            "dcbb1d1e7b28435891ced921c7bdc7a7",
            "0d9a3a8357194656aafb5ef14b63734a",
            "e36a2dfc9f5849e9b95be09f98de6bf2",
            "3b1df37df0354082b464c0088be61efb",
            "accc962f989247c99cd9afdf680b542a",
            "6f25b37d259f4e08b70e9ac3511f966d",
            "745392caab4743afa0b8598f7386cb5a"
          ]
        },
        "id": "PlQs0jL-FWrE",
        "outputId": "2110dd42-7f55-4ccd-ecbc-36e99f38643b"
      },
      "outputs": [
        {
          "name": "stderr",
          "output_type": "stream",
          "text": [
            "Training Progress:  10%|█         | 1/10 [00:27<04:05, 27.33s/it]"
          ]
        },
        {
          "name": "stdout",
          "output_type": "stream",
          "text": [
            "Epoch 1/10: Train loss: 2.2170, Train accuracy: 0.2138, Val loss: 2.1117, Val accuracy: 0.3751, Time: 27.33s\n"
          ]
        },
        {
          "name": "stderr",
          "output_type": "stream",
          "text": [
            "Training Progress:  20%|██        | 2/10 [00:53<03:34, 26.79s/it]"
          ]
        },
        {
          "name": "stdout",
          "output_type": "stream",
          "text": [
            "Epoch 2/10: Train loss: 1.9736, Train accuracy: 0.4628, Val loss: 1.8132, Val accuracy: 0.5194, Time: 26.40s\n"
          ]
        },
        {
          "ename": "",
          "evalue": "",
          "output_type": "error",
          "traceback": [
            "\u001b[1;31mCannot execute code, session has been disposed. Please try restarting the Kernel."
          ]
        },
        {
          "ename": "",
          "evalue": "",
          "output_type": "error",
          "traceback": [
            "\u001b[1;31mCannot execute code, session has been disposed. Please try restarting the Kernel. \n",
            "\u001b[1;31mView Jupyter <a href='command:jupyter.viewOutput'>log</a> for further details."
          ]
        }
      ],
      "source": [
        "# 4. Train the model for 10 epochs\n",
        "\n",
        "num_epochs = 10\n",
        "trained_model, history = train_and_validate(model, trainloader, testloader, loss_fn, optimizer, num_epochs)"
      ]
    },
    {
      "cell_type": "code",
      "execution_count": null,
      "metadata": {
        "colab": {
          "base_uri": "https://localhost:8080/"
        },
        "id": "XfJXRvuqFWrE",
        "outputId": "37fda5cb-4ec9-4a82-8ee8-3fb88cafccfe"
      },
      "outputs": [
        {
          "data": {
            "text/plain": [
              "{'train_loss': [1.809794325319926,\n",
              "  0.9270749977429708,\n",
              "  0.7025713874816895,\n",
              "  0.630709021472931,\n",
              "  0.5893101078351338,\n",
              "  0.5586625367800395,\n",
              "  0.5344254149436951,\n",
              "  0.5147623104731242,\n",
              "  0.4988585285981496,\n",
              "  0.4855390278816223],\n",
              " 'train_accuracy': [0.4513166666666667,\n",
              "  0.7134333333333334,\n",
              "  0.7533166666666667,\n",
              "  0.7705333333333334,\n",
              "  0.7858,\n",
              "  0.7986500000000001,\n",
              "  0.8077166666666667,\n",
              "  0.8176,\n",
              "  0.8234166666666667,\n",
              "  0.8281666666666667],\n",
              " 'val_loss': [1.2105099201202392,\n",
              "  0.7781730221748352,\n",
              "  0.6742747901916504,\n",
              "  0.6240167228698731,\n",
              "  0.5917454112052918,\n",
              "  0.5687568500995636,\n",
              "  0.5465465038776398,\n",
              "  0.5315541536331176,\n",
              "  0.5185177910327912,\n",
              "  0.5073785508155823],\n",
              " 'val_accuracy': [0.6484,\n",
              "  0.7339,\n",
              "  0.7543000000000001,\n",
              "  0.7683,\n",
              "  0.7841,\n",
              "  0.7928000000000001,\n",
              "  0.8021,\n",
              "  0.8086,\n",
              "  0.8113,\n",
              "  0.8190000000000001]}"
            ]
          },
          "execution_count": 14,
          "metadata": {},
          "output_type": "execute_result"
        }
      ],
      "source": [
        "history"
      ]
    },
    {
      "cell_type": "code",
      "execution_count": null,
      "metadata": {
        "colab": {
          "base_uri": "https://localhost:8080/",
          "height": 507
        },
        "id": "0w_07t2WWdNL",
        "outputId": "f4762c14-7c2b-4ed4-b309-65be9b4435cc"
      },
      "outputs": [
        {
          "data": {
            "image/png": "[encoded data removed]",
            "text/plain": [
              "<Figure size 1200x500 with 2 Axes>"
            ]
          },
          "metadata": {},
          "output_type": "display_data"
        }
      ],
      "source": [
        "# Extracting data for plotting\n",
        "train_losses = history['train_loss']\n",
        "train_accuracies = history['train_accuracy']\n",
        "val_losses = history['val_loss']\n",
        "val_accuracies = history['val_accuracy']\n",
        "epochs = range(1, len(train_losses) + 1)\n",
        "\n",
        "# Plotting\n",
        "plt.figure(figsize=(12, 5))\n",
        "\n",
        "# Loss Plot\n",
        "plt.subplot(1, 2, 1)\n",
        "plt.plot(epochs, train_losses, label='Training Loss')\n",
        "plt.plot(epochs, val_losses, label='Validation Loss')\n",
        "plt.title('Training and Validation Loss')\n",
        "plt.ylim(0, 3)\n",
        "plt.xlabel('Epoch')\n",
        "plt.ylabel('Loss')\n",
        "plt.legend()\n",
        "\n",
        "# Accuracy Plot\n",
        "plt.subplot(1, 2, 2)\n",
        "plt.plot(epochs, train_accuracies, label='Training Accuracy')\n",
        "plt.plot(epochs, val_accuracies, label='Validation Accuracy')\n",
        "plt.title('Training and Validation Accuracy')\n",
        "plt.ylim(0, 1)\n",
        "plt.xlabel('Epoch')\n",
        "plt.ylabel('Accuracy')\n",
        "plt.legend()\n",
        "\n",
        "plt.tight_layout()\n",
        "plt.show()"
      ]
    },
    {
      "cell_type": "markdown",
      "metadata": {
        "id": "WEng4ITwFWrF"
      },
      "source": [
        "Now, we can see the the training & validation loss curve."
      ]
    },
    {
      "cell_type": "code",
      "execution_count": null,
      "metadata": {
        "id": "0wiRWth_FWrF"
      },
      "outputs": [],
      "source": [
        "# # 5. Analyze the loss curve\n",
        "\n",
        "# history = np.array(history)\n",
        "# plt.plot(history[:,0:2])\n",
        "# plt.legend(['Tr Loss', 'Val Loss'])\n",
        "# plt.xlabel('Epoch Number')\n",
        "# plt.ylabel('Loss')\n",
        "# plt.ylim(0,3)\n",
        "# # plt.savefig('cifar10_loss_curve.png')\n",
        "# plt.show()"
      ]
    },
    {
      "cell_type": "markdown",
      "metadata": {
        "id": "7TwMMZiPFWrF"
      },
      "source": [
        "Also the accuracy plot of training & validation. What can you observe?"
      ]
    },
    {
      "cell_type": "code",
      "execution_count": null,
      "metadata": {
        "id": "dlMgW-SXFWrF"
      },
      "outputs": [],
      "source": [
        "# # 6. Analyze the accuracy curve\n",
        "\n",
        "# plt.plot(history[:,2:4])\n",
        "# plt.legend(['Tr Accuracy', 'Val Accuracy'])\n",
        "# plt.xlabel('Epoch Number')\n",
        "# plt.ylabel('Accuracy')\n",
        "# plt.ylim(0,1)\n",
        "# # plt.savefig('cifar10_accuracy_curve.png')\n",
        "# plt.show()"
      ]
    },
    {
      "cell_type": "code",
      "execution_count": null,
      "metadata": {
        "id": "nVZedP-nFWrF"
      },
      "outputs": [],
      "source": [
        "# # you can save the model\n",
        "# PATH = './cifar_net.pth'\n",
        "# torch.save(model.state_dict(), PATH)"
      ]
    },
    {
      "cell_type": "markdown",
      "metadata": {
        "id": "jDXP9rFNFWrF"
      },
      "source": [
        "After running a few training epochs, you can evaluate the trained model and compute its accuracy on unseen data. To get the prediction, we feed an image to the network and the category that has the bigger output.\n",
        "\n",
        "Okay, first step. Let us display an image from the test set to get familiar."
      ]
    },
    {
      "cell_type": "code",
      "execution_count": null,
      "metadata": {
        "colab": {
          "base_uri": "https://localhost:8080/",
          "height": 209
        },
        "id": "bzv-R9TRFWrF",
        "outputId": "1a1feb1d-f5f6-4200-f351-c0dd8a8f6de1"
      },
      "outputs": [
        {
          "ename": "NameError",
          "evalue": "name 'test_dataloader' is not defined",
          "output_type": "error",
          "traceback": [
            "\u001b[1;31m---------------------------------------------------------------------------\u001b[0m",
            "\u001b[1;31mNameError\u001b[0m                                 Traceback (most recent call last)",
            "Cell \u001b[1;32mIn[19], line 1\u001b[0m\n\u001b[1;32m----> 1\u001b[0m dataiter \u001b[38;5;241m=\u001b[39m \u001b[38;5;28miter\u001b[39m(\u001b[43mtest_dataloader\u001b[49m)\n\u001b[0;32m      2\u001b[0m images, labels \u001b[38;5;241m=\u001b[39m \u001b[38;5;28mnext\u001b[39m(dataiter)\n\u001b[0;32m      4\u001b[0m \u001b[38;5;66;03m# print images\u001b[39;00m\n",
            "\u001b[1;31mNameError\u001b[0m: name 'test_dataloader' is not defined"
          ]
        }
      ],
      "source": [
        "dataiter = iter(test_dataloader)\n",
        "images, labels = next(dataiter)\n",
        "\n",
        "# print images\n",
        "imshow(torchvision.utils.make_grid(images))\n",
        "print('GroundTruth: ', ' '.join(f'{class_names[labels[j]]:5s}' for j in range(batch_size)))"
      ]
    },
    {
      "cell_type": "code",
      "execution_count": null,
      "metadata": {
        "colab": {
          "base_uri": "https://localhost:8080/"
        },
        "id": "TNzc-pvIFWrF",
        "outputId": "73547f10-63e3-4d62-d810-b2e75372e928"
      },
      "outputs": [
        {
          "data": {
            "text/plain": [
              "torch.Size([16, 3, 32, 32])"
            ]
          },
          "execution_count": 25,
          "metadata": {},
          "output_type": "execute_result"
        }
      ],
      "source": [
        "images.shape"
      ]
    },
    {
      "cell_type": "markdown",
      "metadata": {
        "id": "Dv_9Vi_FFWrG"
      },
      "source": [
        "Okay, now let us see what the neural network thinks these examples above are:"
      ]
    },
    {
      "cell_type": "code",
      "execution_count": null,
      "metadata": {
        "id": "6tQvCsYEFWrG"
      },
      "outputs": [],
      "source": [
        "# again, need to flatten the image\n",
        "images = images.to(device)\n",
        "images = images.view(images.size(0), -1)\n",
        "outputs = model(images)"
      ]
    },
    {
      "cell_type": "markdown",
      "metadata": {
        "id": "QvTovdyPFWrG"
      },
      "source": [
        "The outputs are energies for the 10 classes. The higher the energy for a class, the more the network thinks that the image is of the particular class. So, let’s get the index of the highest energy:"
      ]
    },
    {
      "cell_type": "code",
      "execution_count": null,
      "metadata": {
        "colab": {
          "base_uri": "https://localhost:8080/"
        },
        "id": "vfl3gB9YFWrG",
        "outputId": "b80f8657-11b7-41b8-9523-f321220d7f72"
      },
      "outputs": [
        {
          "name": "stdout",
          "output_type": "stream",
          "text": [
            "Predicted:  cat   truck plane plane deer  frog  car   frog  dog   car   ship  truck ship  horse truck ship \n"
          ]
        }
      ],
      "source": [
        "_, predicted = torch.max(outputs, 1)\n",
        "\n",
        "print('Predicted: ', ' '.join(f'{class_names[predicted[j]]:5s}'\n",
        "                              for j in range(batch_size)))"
      ]
    },
    {
      "cell_type": "code",
      "execution_count": null,
      "metadata": {
        "colab": {
          "base_uri": "https://localhost:8080/"
        },
        "id": "_N0i0N-DFWrG",
        "outputId": "09d06584-d8de-49c9-fbff-f5b46b70ec2f"
      },
      "outputs": [
        {
          "name": "stdout",
          "output_type": "stream",
          "text": [
            "Accuracy of the network on the 10000 test images: 46 %\n"
          ]
        }
      ],
      "source": [
        "correct = 0\n",
        "total = 0\n",
        "# since we're not training, we don't need to calculate the gradients for our outputs\n",
        "with torch.no_grad():\n",
        "    for data in test_dataloader:\n",
        "#         images, labels = data\n",
        "        images, labels = data[0].to(device), data[1].to(device)\n",
        "        # calculate outputs by running images through the network\n",
        "        images = images.view(images.size(0), -1)\n",
        "        outputs = model(images)\n",
        "        # the class with the highest energy is what we choose as prediction\n",
        "        _, predicted = torch.max(outputs.data, 1)\n",
        "        total += labels.size(0)\n",
        "        correct += (predicted == labels).sum().item()\n",
        "\n",
        "print(f'Accuracy of the network on the 10000 test images: {100 * correct // total} %')"
      ]
    },
    {
      "cell_type": "markdown",
      "metadata": {
        "id": "KB93KW5_FWrG"
      },
      "source": [
        "That looks way better than chance, which is 10% accuracy (randomly picking a class out of 10 classes). Seems like the network learnt something.\n",
        "\n",
        "Hmmm, what are the classes that performed well, and the classes that did not perform well:"
      ]
    },
    {
      "cell_type": "code",
      "execution_count": null,
      "metadata": {
        "colab": {
          "base_uri": "https://localhost:8080/"
        },
        "id": "P_cvX5omFWrG",
        "outputId": "7127c0be-8964-4abf-c555-3334ea62c45b"
      },
      "outputs": [
        {
          "name": "stdout",
          "output_type": "stream",
          "text": [
            "Accuracy for class: plane is 43.7 %\n",
            "Accuracy for class: car   is 38.5 %\n",
            "Accuracy for class: bird  is 32.5 %\n",
            "Accuracy for class: cat   is 32.8 %\n",
            "Accuracy for class: deer  is 48.0 %\n",
            "Accuracy for class: dog   is 37.4 %\n",
            "Accuracy for class: frog  is 54.0 %\n",
            "Accuracy for class: horse is 56.3 %\n",
            "Accuracy for class: ship  is 58.7 %\n",
            "Accuracy for class: truck is 60.5 %\n"
          ]
        }
      ],
      "source": [
        "# prepare to count predictions for each class\n",
        "correct_pred = {classname: 0 for classname in class_names}\n",
        "total_pred = {classname: 0 for classname in class_names}\n",
        "\n",
        "# again no gradients needed\n",
        "with torch.no_grad():\n",
        "    for data in test_dataloader:\n",
        "        images, labels = data[0].to(device), data[1].to(device)\n",
        "        images = images.view(images.size(0), -1)\n",
        "        outputs = model(images)\n",
        "        _, predictions = torch.max(outputs, 1)\n",
        "        # collect the correct predictions for each class\n",
        "        for label, prediction in zip(labels, predictions):\n",
        "            if label == prediction:\n",
        "                correct_pred[class_names[label]] += 1\n",
        "            total_pred[class_names[label]] += 1\n",
        "\n",
        "\n",
        "# print accuracy for each class\n",
        "for classname, correct_count in correct_pred.items():\n",
        "    accuracy = 100 * float(correct_count) / total_pred[classname]\n",
        "    print(f'Accuracy for class: {classname:5s} is {accuracy:.1f} %')"
      ]
    },
    {
      "cell_type": "markdown",
      "metadata": {
        "id": "rcFcbrz3FWrH"
      },
      "source": [
        "## Confusion Matrix"
      ]
    },
    {
      "cell_type": "markdown",
      "metadata": {
        "id": "L1vT5ZOtFWrH"
      },
      "source": [
        "Finally, you might want to visualize which class the model predicts well and which class are more challenging. This can be done through the inspection of confusion matrix."
      ]
    },
    {
      "cell_type": "code",
      "execution_count": null,
      "metadata": {
        "colab": {
          "base_uri": "https://localhost:8080/",
          "height": 758
        },
        "id": "x794JnTeFWrH",
        "outputId": "edc983f9-1c2d-4184-f7c7-5af9c212d6bb"
      },
      "outputs": [
        {
          "data": {
            "text/plain": [
              "<Axes: >"
            ]
          },
          "execution_count": 30,
          "metadata": {},
          "output_type": "execute_result"
        },
        {
          "data": {
            "image/png": "[encoded data removed]",
            "text/plain": [
              "<Figure size 2000x1000 with 2 Axes>"
            ]
          },
          "metadata": {},
          "output_type": "display_data"
        }
      ],
      "source": [
        "from sklearn.metrics import confusion_matrix\n",
        "import seaborn as sn\n",
        "import pandas as pd\n",
        "\n",
        "y_pred = []\n",
        "y_true = []\n",
        "\n",
        "model.to('cpu')\n",
        "\n",
        "# iterate over test data\n",
        "for inputs, labels in test_dataloader:\n",
        "        #reshape images so they can be fed to a nn.Linear()\n",
        "        inputs = inputs.view(inputs.size(0), -1)\n",
        "        output = model(inputs) # Feed Network\n",
        "\n",
        "        output = (torch.max(torch.exp(output), 1)[1]).data.cpu().numpy()\n",
        "        y_pred.extend(output) # Save Prediction\n",
        "\n",
        "        labels = labels.data.cpu().numpy()\n",
        "        y_true.extend(labels) # Save Truth\n",
        "\n",
        "# constant for classes\n",
        "classes = ('plane', 'car', 'bird', 'cat',\n",
        "       'deer', 'dog', 'frog', 'horse', 'ship', 'truck')\n",
        "\n",
        "# Build confusion matrix\n",
        "cf_matrix = confusion_matrix(y_true, y_pred)\n",
        "df_cm = pd.DataFrame(cf_matrix/np.sum(cf_matrix) *10, index = [i for i in classes],\n",
        "                     columns = [i for i in classes])\n",
        "plt.figure(figsize = (20,10))\n",
        "sn.heatmap(df_cm, annot=True)\n",
        "# plt.savefig('output.png')"
      ]
    },
    {
      "cell_type": "code",
      "execution_count": null,
      "metadata": {
        "id": "B_Gooha9FWrH"
      },
      "outputs": [],
      "source": []
    }
  ],
  "metadata": {
    "colab": {
      "include_colab_link": true,
      "provenance": []
    },
    "kernelspec": {
      "display_name": "venv",
      "language": "python",
      "name": "python3"
    },
    "language_info": {
      "codemirror_mode": {
        "name": "ipython",
        "version": 3
      },
      "file_extension": ".py",
      "mimetype": "text/x-python",
      "name": "python",
      "nbconvert_exporter": "python",
      "pygments_lexer": "ipython3",
      "version": "3.10.0"
    },
    "widgets": {
      "application/vnd.jupyter.widget-state+json": {
        "0d9a3a8357194656aafb5ef14b63734a": {
          "model_module": "@jupyter-widgets/base",
          "model_module_version": "1.2.0",
          "model_name": "LayoutModel",
          "state": {
            "_model_module": "@jupyter-widgets/base",
            "_model_module_version": "1.2.0",
            "_model_name": "LayoutModel",
            "_view_count": null,
            "_view_module": "@jupyter-widgets/base",
            "_view_module_version": "1.2.0",
            "_view_name": "LayoutView",
            "align_content": null,
            "align_items": null,
            "align_self": null,
            "border": null,
            "bottom": null,
            "display": null,
            "flex": null,
            "flex_flow": null,
            "grid_area": null,
            "grid_auto_columns": null,
            "grid_auto_flow": null,
            "grid_auto_rows": null,
            "grid_column": null,
            "grid_gap": null,
            "grid_row": null,
            "grid_template_areas": null,
            "grid_template_columns": null,
            "grid_template_rows": null,
            "height": null,
            "justify_content": null,
            "justify_items": null,
            "left": null,
            "margin": null,
            "max_height": null,
            "max_width": null,
            "min_height": null,
            "min_width": null,
            "object_fit": null,
            "object_position": null,
            "order": null,
            "overflow": null,
            "overflow_x": null,
            "overflow_y": null,
            "padding": null,
            "right": null,
            "top": null,
            "visibility": null,
            "width": null
          }
        },
        "3b1df37df0354082b464c0088be61efb": {
          "model_module": "@jupyter-widgets/base",
          "model_module_version": "1.2.0",
          "model_name": "LayoutModel",
          "state": {
            "_model_module": "@jupyter-widgets/base",
            "_model_module_version": "1.2.0",
            "_model_name": "LayoutModel",
            "_view_count": null,
            "_view_module": "@jupyter-widgets/base",
            "_view_module_version": "1.2.0",
            "_view_name": "LayoutView",
            "align_content": null,
            "align_items": null,
            "align_self": null,
            "border": null,
            "bottom": null,
            "display": null,
            "flex": null,
            "flex_flow": null,
            "grid_area": null,
            "grid_auto_columns": null,
            "grid_auto_flow": null,
            "grid_auto_rows": null,
            "grid_column": null,
            "grid_gap": null,
            "grid_row": null,
            "grid_template_areas": null,
            "grid_template_columns": null,
            "grid_template_rows": null,
            "height": null,
            "justify_content": null,
            "justify_items": null,
            "left": null,
            "margin": null,
            "max_height": null,
            "max_width": null,
            "min_height": null,
            "min_width": null,
            "object_fit": null,
            "object_position": null,
            "order": null,
            "overflow": null,
            "overflow_x": null,
            "overflow_y": null,
            "padding": null,
            "right": null,
            "top": null,
            "visibility": null,
            "width": null
          }
        },
        "6f25b37d259f4e08b70e9ac3511f966d": {
          "model_module": "@jupyter-widgets/base",
          "model_module_version": "1.2.0",
          "model_name": "LayoutModel",
          "state": {
            "_model_module": "@jupyter-widgets/base",
            "_model_module_version": "1.2.0",
            "_model_name": "LayoutModel",
            "_view_count": null,
            "_view_module": "@jupyter-widgets/base",
            "_view_module_version": "1.2.0",
            "_view_name": "LayoutView",
            "align_content": null,
            "align_items": null,
            "align_self": null,
            "border": null,
            "bottom": null,
            "display": null,
            "flex": null,
            "flex_flow": null,
            "grid_area": null,
            "grid_auto_columns": null,
            "grid_auto_flow": null,
            "grid_auto_rows": null,
            "grid_column": null,
            "grid_gap": null,
            "grid_row": null,
            "grid_template_areas": null,
            "grid_template_columns": null,
            "grid_template_rows": null,
            "height": null,
            "justify_content": null,
            "justify_items": null,
            "left": null,
            "margin": null,
            "max_height": null,
            "max_width": null,
            "min_height": null,
            "min_width": null,
            "object_fit": null,
            "object_position": null,
            "order": null,
            "overflow": null,
            "overflow_x": null,
            "overflow_y": null,
            "padding": null,
            "right": null,
            "top": null,
            "visibility": null,
            "width": null
          }
        },
        "745392caab4743afa0b8598f7386cb5a": {
          "model_module": "@jupyter-widgets/controls",
          "model_module_version": "1.5.0",
          "model_name": "DescriptionStyleModel",
          "state": {
            "_model_module": "@jupyter-widgets/controls",
            "_model_module_version": "1.5.0",
            "_model_name": "DescriptionStyleModel",
            "_view_count": null,
            "_view_module": "@jupyter-widgets/base",
            "_view_module_version": "1.2.0",
            "_view_name": "StyleView",
            "description_width": ""
          }
        },
        "89163ba5a1b3415dad4b0cce2c2b882b": {
          "model_module": "@jupyter-widgets/controls",
          "model_module_version": "1.5.0",
          "model_name": "FloatProgressModel",
          "state": {
            "_dom_classes": [],
            "_model_module": "@jupyter-widgets/controls",
            "_model_module_version": "1.5.0",
            "_model_name": "FloatProgressModel",
            "_view_count": null,
            "_view_module": "@jupyter-widgets/controls",
            "_view_module_version": "1.5.0",
            "_view_name": "ProgressView",
            "bar_style": "success",
            "description": "",
            "description_tooltip": null,
            "layout": "IPY_MODEL_3b1df37df0354082b464c0088be61efb",
            "max": 10,
            "min": 0,
            "orientation": "horizontal",
            "style": "IPY_MODEL_accc962f989247c99cd9afdf680b542a",
            "value": 10
          }
        },
        "accc962f989247c99cd9afdf680b542a": {
          "model_module": "@jupyter-widgets/controls",
          "model_module_version": "1.5.0",
          "model_name": "ProgressStyleModel",
          "state": {
            "_model_module": "@jupyter-widgets/controls",
            "_model_module_version": "1.5.0",
            "_model_name": "ProgressStyleModel",
            "_view_count": null,
            "_view_module": "@jupyter-widgets/base",
            "_view_module_version": "1.2.0",
            "_view_name": "StyleView",
            "bar_color": null,
            "description_width": ""
          }
        },
        "c1b2d08ea1604592a644bdae6f9ac8ac": {
          "model_module": "@jupyter-widgets/controls",
          "model_module_version": "1.5.0",
          "model_name": "HBoxModel",
          "state": {
            "_dom_classes": [],
            "_model_module": "@jupyter-widgets/controls",
            "_model_module_version": "1.5.0",
            "_model_name": "HBoxModel",
            "_view_count": null,
            "_view_module": "@jupyter-widgets/controls",
            "_view_module_version": "1.5.0",
            "_view_name": "HBoxView",
            "box_style": "",
            "children": [
              "IPY_MODEL_f2436d3cdcfe47bb9846c613828a39d2",
              "IPY_MODEL_89163ba5a1b3415dad4b0cce2c2b882b",
              "IPY_MODEL_e2a1da11ee014b399c523434b759f40b"
            ],
            "layout": "IPY_MODEL_dcbb1d1e7b28435891ced921c7bdc7a7"
          }
        },
        "dcbb1d1e7b28435891ced921c7bdc7a7": {
          "model_module": "@jupyter-widgets/base",
          "model_module_version": "1.2.0",
          "model_name": "LayoutModel",
          "state": {
            "_model_module": "@jupyter-widgets/base",
            "_model_module_version": "1.2.0",
            "_model_name": "LayoutModel",
            "_view_count": null,
            "_view_module": "@jupyter-widgets/base",
            "_view_module_version": "1.2.0",
            "_view_name": "LayoutView",
            "align_content": null,
            "align_items": null,
            "align_self": null,
            "border": null,
            "bottom": null,
            "display": null,
            "flex": null,
            "flex_flow": null,
            "grid_area": null,
            "grid_auto_columns": null,
            "grid_auto_flow": null,
            "grid_auto_rows": null,
            "grid_column": null,
            "grid_gap": null,
            "grid_row": null,
            "grid_template_areas": null,
            "grid_template_columns": null,
            "grid_template_rows": null,
            "height": null,
            "justify_content": null,
            "justify_items": null,
            "left": null,
            "margin": null,
            "max_height": null,
            "max_width": null,
            "min_height": null,
            "min_width": null,
            "object_fit": null,
            "object_position": null,
            "order": null,
            "overflow": null,
            "overflow_x": null,
            "overflow_y": null,
            "padding": null,
            "right": null,
            "top": null,
            "visibility": null,
            "width": null
          }
        },
        "e2a1da11ee014b399c523434b759f40b": {
          "model_module": "@jupyter-widgets/controls",
          "model_module_version": "1.5.0",
          "model_name": "HTMLModel",
          "state": {
            "_dom_classes": [],
            "_model_module": "@jupyter-widgets/controls",
            "_model_module_version": "1.5.0",
            "_model_name": "HTMLModel",
            "_view_count": null,
            "_view_module": "@jupyter-widgets/controls",
            "_view_module_version": "1.5.0",
            "_view_name": "HTMLView",
            "description": "",
            "description_tooltip": null,
            "layout": "IPY_MODEL_6f25b37d259f4e08b70e9ac3511f966d",
            "placeholder": "​",
            "style": "IPY_MODEL_745392caab4743afa0b8598f7386cb5a",
            "value": " 10/10 [03:14&lt;00:00, 19.42s/it]"
          }
        },
        "e36a2dfc9f5849e9b95be09f98de6bf2": {
          "model_module": "@jupyter-widgets/controls",
          "model_module_version": "1.5.0",
          "model_name": "DescriptionStyleModel",
          "state": {
            "_model_module": "@jupyter-widgets/controls",
            "_model_module_version": "1.5.0",
            "_model_name": "DescriptionStyleModel",
            "_view_count": null,
            "_view_module": "@jupyter-widgets/base",
            "_view_module_version": "1.2.0",
            "_view_name": "StyleView",
            "description_width": ""
          }
        },
        "f2436d3cdcfe47bb9846c613828a39d2": {
          "model_module": "@jupyter-widgets/controls",
          "model_module_version": "1.5.0",
          "model_name": "HTMLModel",
          "state": {
            "_dom_classes": [],
            "_model_module": "@jupyter-widgets/controls",
            "_model_module_version": "1.5.0",
            "_model_name": "HTMLModel",
            "_view_count": null,
            "_view_module": "@jupyter-widgets/controls",
            "_view_module_version": "1.5.0",
            "_view_name": "HTMLView",
            "description": "",
            "description_tooltip": null,
            "layout": "IPY_MODEL_0d9a3a8357194656aafb5ef14b63734a",
            "placeholder": "​",
            "style": "IPY_MODEL_e36a2dfc9f5849e9b95be09f98de6bf2",
            "value": "Training Progress: 100%"
          }
        }
      }
    }
  },
  "nbformat": 4,
  "nbformat_minor": 0
}
