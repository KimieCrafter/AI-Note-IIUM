{
  "cells": [
    {
      "cell_type": "markdown",
      "metadata": {
        "id": "Z1P5KUInW6uY"
      },
      "source": [
        "## Import and dataloaders\n",
        "\n",
        "Before starting this tutorial, let's  import and define our dataloaders for CIFAR10."
      ]
    },
    {
      "cell_type": "code",
      "execution_count": 1,
      "metadata": {
        "colab": {
          "base_uri": "https://localhost:8080/"
        },
        "id": "KuPXfbU0XFIw",
        "outputId": "9eae08f2-54e5-4273-d414-9d08030d9aeb"
      },
      "outputs": [
        {
          "name": "stdout",
          "output_type": "stream",
          "text": [
            "PyTorch version: 2.5.1+cu121\n",
            "torchvision version: 0.20.1+cu121\n"
          ]
        }
      ],
      "source": [
        "# Import PyTorch\n",
        "import torch\n",
        "from torch import nn\n",
        "\n",
        "# Import torchvision\n",
        "import torchvision\n",
        "from torchvision import datasets\n",
        "# from torchvision.transforms import ToTensor\n",
        "import torchvision.transforms as transforms\n",
        "\n",
        "# Import matplotlib for visualization\n",
        "import matplotlib.pyplot as plt\n",
        "\n",
        "# Check versions\n",
        "# Note: your PyTorch version shouldn't be lower than 1.10.0 and torchvision version shouldn't be lower than 0.11\n",
        "print(f\"PyTorch version: {torch.__version__}\\ntorchvision version: {torchvision.__version__}\")"
      ]
    },
    {
      "cell_type": "code",
      "execution_count": 2,
      "metadata": {
        "colab": {
          "base_uri": "https://localhost:8080/"
        },
        "id": "2Nq55v6GXSqi",
        "outputId": "d1865748-fea2-4f05-d7b0-cae924b2ee1a"
      },
      "outputs": [
        {
          "name": "stdout",
          "output_type": "stream",
          "text": [
            "Files already downloaded and verified\n",
            "Files already downloaded and verified\n"
          ]
        }
      ],
      "source": [
        "class CIFAR10Dataset(torch.utils.data.Dataset):\n",
        "    def __init__(self, root='./data', train=True, transform=None, download=True):\n",
        "        self.data = torchvision.datasets.CIFAR10(root=root, train=train, download=download, transform=transform)\n",
        "\n",
        "    def __len__(self):\n",
        "        return len(self.data)\n",
        "\n",
        "    def __getitem__(self, idx):\n",
        "        return self.data[idx]  # Returns (image, label) tuple\n",
        "\n",
        "def get_dataloader(batch_size=4, num_workers=0, root='./data'):\n",
        "    transform = transforms.Compose([\n",
        "        transforms.ToTensor(),\n",
        "        transforms.Normalize((0.5, 0.5, 0.5), (0.5, 0.5, 0.5))\n",
        "    ])\n",
        "\n",
        "    train_dataset = CIFAR10Dataset(root=root, train=True, transform=transform)\n",
        "    test_dataset = CIFAR10Dataset(root=root, train=False, transform=transform)\n",
        "\n",
        "    train_dataloader = torch.utils.data.DataLoader(train_dataset, batch_size=batch_size, shuffle=True, num_workers=num_workers)\n",
        "    test_dataloader = torch.utils.data.DataLoader(test_dataset, batch_size=batch_size, shuffle=False, num_workers=num_workers)\n",
        "\n",
        "    return train_dataloader, test_dataloader\n",
        "\n",
        "# Get dataloaders\n",
        "train_dataloader, test_dataloader = get_dataloader(batch_size=16, num_workers=0)\n",
        "\n",
        "# Define class names\n",
        "class_names = ('plane', 'car', 'bird', 'cat', 'deer', 'dog', 'frog', 'horse', 'ship', 'truck')\n",
        "\n",
        "batch_size = 16"
      ]
    },
    {
      "cell_type": "code",
      "execution_count": 3,
      "metadata": {
        "colab": {
          "base_uri": "https://localhost:8080/"
        },
        "id": "OANDTmKwXYww",
        "outputId": "112ae28b-2198-4c7e-e877-f40b67bb0e0f"
      },
      "outputs": [
        {
          "name": "stdout",
          "output_type": "stream",
          "text": [
            "Dataloaders: (<torch.utils.data.dataloader.DataLoader object at 0x00000167869D5F30>, <torch.utils.data.dataloader.DataLoader object at 0x00000167869D6AD0>)\n",
            "Length of train dataloader: 3125 batches of 16\n",
            "Length of test dataloader: 625 batches of 16\n"
          ]
        }
      ],
      "source": [
        "# Let's check out what we've created\n",
        "print(f\"Dataloaders: {train_dataloader, test_dataloader}\")\n",
        "print(f\"Length of train dataloader: {len(train_dataloader)} batches of {batch_size}\")\n",
        "print(f\"Length of test dataloader: {len(test_dataloader)} batches of {batch_size}\")"
      ]
    },
    {
      "cell_type": "markdown",
      "metadata": {
        "id": "HVihl7rPFO9W"
      },
      "source": [
        "## Batch Normalization and Dropout\n",
        "\n",
        "Discover how batch normalization and dropout improve a model's accuracy.\n",
        "\n",
        "We will be covering:\n",
        "\n",
        "- Batch Normalization\n",
        "\n",
        "- Notations\n",
        "\n",
        "- Advantages and disadvantages of using batch normalization\n",
        "\n",
        "- Dropout\n",
        "\n",
        "### Batch Normalization\n",
        "\n",
        "If you open any introductory machine learning textbook, you will find the idea of **input scaling**. It is undesirable to train a model with **gradient descent** with non-normalized input features.\n",
        "\n",
        "Let’s start with an intuitive example to understand why we want normalization inside any model.\n",
        "\n",
        "Suppose you have an input feature $x1$ in the range [0,10000] and another feature $x2$ in the range [0,1]. Any linear combination would ignore $x2$ such that $x1*w1 + x2*w2 \\approx x1$, since our weights are initialized in a very tiny range like [-1,1].\n",
        "\n",
        "We encounter the same issues inside the layers of deep neural networks. In this lesson, we will propagate this idea inside the NN.\n",
        "\n",
        "> If we think out of the box, any intermediate layer is conceptually the same as the input layer; it accepts features and transforms them"
      ]
    },
    {
      "cell_type": "markdown",
      "metadata": {
        "id": "78X-xhlyFO9y"
      },
      "source": [
        "### Notations\n",
        "\n",
        "Throughout this lesson, $N$ will be the batch size, $H$ will refer to the height, $W$ to the width, and $C$ to the feature channels. The greek letter $\\mu()$ refers to mean and the greek letter $\\sigma()$ refers to standard deviation.\n",
        "\n",
        "The batch features are denoted by $x$ with a shape of $[N, C, H, W]$.\n",
        "\n",
        "![pic](https://raw.githubusercontent.com/CUTe-EmbeddedAI/images/main/images/fig22.PNG)\n",
        "\n",
        "We will visualize the 4D activation maps x by **merging the spatial dimensions**. Now, we have a 3D shape that looks like this:\n",
        "\n",
        "![pic](https://raw.githubusercontent.com/CUTe-EmbeddedAI/images/main/images/fig23.PNG)\n",
        "\n",
        "The most dominant solution is batch normalization. Let’s see how it works.\n",
        "\n",
        "> Batch Normalization (BN) normalizes the mean and standard deviation **for each individual feature channel/map**.\n",
        "\n",
        "First of all, the mean and standard deviation are first-order statistics, and thus they relate to the **global characteristics** (such as the image style).\n",
        "\n",
        "In this way, we somehow blend the global characteristics. Such a strategy is effective when we want our representation to share these characteristics. This is the reason that we widely utilize BN in downstream tasks (i.e., image classification).\n",
        "\n",
        "From a mathematical point of view, **you can think of it as bringing the features of the image in the same range**.\n",
        "\n",
        "![pic](https://raw.githubusercontent.com/CUTe-EmbeddedAI/images/main/images/fig24.PNG)\n",
        "\n",
        "Specifically, we demand from our features to follow a Gaussian distribution with zero mean and unit variance. Mathematically, this can be expressed as:\n",
        "\n",
        "![pic](https://raw.githubusercontent.com/CUTe-EmbeddedAI/images/main/images/fig25.PNG)\n",
        "\n",
        "The index $c$ denotes the per-channel (feature map) mean.\n",
        "\n",
        "Let’s see this operation visually:\n",
        "\n",
        "![pic](https://raw.githubusercontent.com/CUTe-EmbeddedAI/images/main/images/fig26.PNG)\n",
        "\n",
        "Notably, the spatial dimensions as well as the image batch are averaged. This way, **we concentrate our features in a compact Gaussian-like space**, which is usually beneficial.\n",
        "\n",
        "In fact, $\\gamma$ and $\\beta$ correspond to the trainable parameters that result in the linear/affine transformation, which is different for all channels.\n",
        "\n",
        "Specifically $\\gamma$ and $\\beta$ are vectors with the channel dimensionality."
      ]
    },
    {
      "cell_type": "markdown",
      "metadata": {
        "id": "Iq4OEKm3FO95"
      },
      "source": [
        "### Advantages and disadvantages of using batch normalization\n",
        "\n",
        "The following are some **advantages** of BN:\n",
        "\n",
        "- BN accelerates the training of deep neural networks and tackles the vanishing gradient problem.\n",
        "\n",
        "- For every input mini-batch, we calculate different statistics. This introduces some sort of regularization. Regularization refers to any form of technique/constraint that restricts the complexity of a deep neural network during training.\n",
        "\n",
        "- BN also has a beneficial effect on the gradient flow through the network. It reduces the dependence of gradients on the scale of the parameters or of their initial values. This allows us to use much higher learning rates.\n",
        "\n",
        "- In theory, BN makes it possible to use saturating nonlinearities by preventing the network from getting stuck, but we just use nn.ReLU().\n",
        "\n",
        "- BN makes the gradients more predictive.\n",
        "\n",
        "BN has the following **disadvantages**:\n",
        "\n",
        "- Batch normalization may cause inaccurate estimation of batch statistics when we have a small batch size. This increases the model error. In tasks such as image segmentation, the batch size is usually too small. BN needs a sufficiently large batch size.\n",
        "\n",
        "Let’s now implement batch normalization from scratch for images of size $[N, C, H, W]$. All you have to do is transform the above equations to Pytorch. The tricky part is to correctly figure out the sizes of each tensor."
      ]
    },
    {
      "cell_type": "code",
      "execution_count": 4,
      "metadata": {
        "id": "c9RMg8gtFO9-"
      },
      "outputs": [],
      "source": [
        "import torch\n",
        "\n",
        "# Gamma and beta are provided as 1d tensors.\n",
        "# X is the data in a mini-batch\n",
        "\n",
        "def batchnorm(X, gamma, beta):\n",
        "\n",
        "    # extract the dimensions\n",
        "    N, C, H, W = list(X.size())\n",
        "    # mini-batch mean\n",
        "    mean = torch.mean(X, dim=(0, 2, 3))\n",
        "    # mini-batch variance\n",
        "    variance = torch.mean((X - mean.reshape((1, C, 1, 1))) ** 2, dim=(0, 2, 3))\n",
        "    # normalize\n",
        "    X_hat = (X - mean.reshape((1, C, 1, 1))) * 1.0 / torch.sqrt(variance.reshape((1, C, 1, 1)) )\n",
        "    # scale and shift\n",
        "    out = gamma.reshape((1, C, 1, 1)) * X_hat + beta.reshape((1, C, 1, 1))\n",
        "\n",
        "    return out"
      ]
    },
    {
      "cell_type": "code",
      "execution_count": 5,
      "metadata": {
        "id": "Xiiu6gbyXiV5"
      },
      "outputs": [],
      "source": [
        "# get some random training images\n",
        "dataiter = iter(train_dataloader)\n",
        "images, labels = next(dataiter)\n",
        "\n",
        "BN_layer = nn.BatchNorm2d(3)\n",
        "output_BN = BN_layer(images)"
      ]
    },
    {
      "cell_type": "code",
      "execution_count": 6,
      "metadata": {
        "id": "CuOAqYKUzwfv"
      },
      "outputs": [
        {
          "name": "stdout",
          "output_type": "stream",
          "text": [
            "tensor([[[[ 0.1765,  0.3098,  0.3569,  ...,  0.2392,  0.2157,  0.2549],\n",
            "          [ 0.2078,  0.2863,  0.3255,  ...,  0.1765,  0.1608,  0.2078],\n",
            "          [ 0.2157,  0.2235,  0.2941,  ...,  0.2471,  0.2784,  0.3490],\n",
            "          ...,\n",
            "          [ 0.2549,  0.2000,  0.1922,  ...,  0.3176,  0.3569,  0.3255],\n",
            "          [ 0.2000,  0.1765,  0.1922,  ...,  0.2706,  0.3412,  0.3804],\n",
            "          [ 0.1843,  0.1608,  0.1294,  ...,  0.3098,  0.3647,  0.3569]],\n",
            "\n",
            "         [[ 0.0745,  0.2078,  0.2549,  ...,  0.1686,  0.1529,  0.1922],\n",
            "          [ 0.0980,  0.1843,  0.2235,  ...,  0.1059,  0.0980,  0.1451],\n",
            "          [ 0.1137,  0.1216,  0.1922,  ...,  0.1843,  0.2157,  0.2863],\n",
            "          ...,\n",
            "          [ 0.1922,  0.1373,  0.1294,  ...,  0.2392,  0.2784,  0.2471],\n",
            "          [ 0.1373,  0.1137,  0.1294,  ...,  0.1922,  0.2627,  0.3020],\n",
            "          [ 0.1216,  0.0980,  0.0667,  ...,  0.2314,  0.2863,  0.2784]],\n",
            "\n",
            "         [[ 0.0275,  0.1608,  0.2078,  ...,  0.1608,  0.1373,  0.1765],\n",
            "          [ 0.0510,  0.1373,  0.1765,  ...,  0.0980,  0.0824,  0.1294],\n",
            "          [ 0.0667,  0.0745,  0.1451,  ...,  0.1765,  0.2000,  0.2706],\n",
            "          ...,\n",
            "          [ 0.1765,  0.1216,  0.1137,  ...,  0.2157,  0.2627,  0.2314],\n",
            "          [ 0.1216,  0.0980,  0.1137,  ...,  0.1765,  0.2471,  0.2863],\n",
            "          [ 0.0980,  0.0824,  0.0510,  ...,  0.2078,  0.2706,  0.2627]]],\n",
            "\n",
            "\n",
            "        [[[-0.7255, -0.5373, -0.3569,  ..., -0.8902, -0.8824, -0.8980],\n",
            "          [-0.6627, -0.5216, -0.3882,  ..., -0.8980, -0.8902, -0.8902],\n",
            "          [-0.6000, -0.5137, -0.4431,  ..., -0.8902, -0.8824, -0.8824],\n",
            "          ...,\n",
            "          [-0.0588, -0.0824, -0.0902,  ..., -0.0196,  0.0824,  0.0275],\n",
            "          [-0.0588, -0.0667, -0.0510,  ..., -0.0667, -0.0353, -0.0196],\n",
            "          [-0.0510, -0.0118,  0.0510,  ..., -0.0902, -0.0902, -0.0824]],\n",
            "\n",
            "         [[-0.7647, -0.6078, -0.4431,  ..., -0.8745, -0.8745, -0.8902],\n",
            "          [-0.7490, -0.6314, -0.5059,  ..., -0.8824, -0.8745, -0.8745],\n",
            "          [-0.6941, -0.6314, -0.5608,  ..., -0.8902, -0.8824, -0.8824],\n",
            "          ...,\n",
            "          [-0.0902, -0.1137, -0.1216,  ..., -0.0745,  0.0196, -0.0275],\n",
            "          [-0.0902, -0.0980, -0.0745,  ..., -0.1294, -0.1059, -0.0902],\n",
            "          [-0.0745, -0.0353,  0.0275,  ..., -0.1686, -0.1765, -0.1765]],\n",
            "\n",
            "         [[-0.8588, -0.6471, -0.4980,  ..., -0.9216, -0.9216, -0.9373],\n",
            "          [-0.7882, -0.6784, -0.6000,  ..., -0.9216, -0.9137, -0.9137],\n",
            "          [-0.7176, -0.7333, -0.7412,  ..., -0.9451, -0.9373, -0.9373],\n",
            "          ...,\n",
            "          [-0.1843, -0.2078, -0.2157,  ..., -0.1608, -0.0667, -0.1216],\n",
            "          [-0.1922, -0.1922, -0.1765,  ..., -0.2471, -0.2157, -0.2000],\n",
            "          [-0.1922, -0.1529, -0.0902,  ..., -0.3098, -0.3098, -0.2941]]],\n",
            "\n",
            "\n",
            "        [[[-0.1765, -0.1451, -0.1608,  ...,  1.0000,  1.0000,  1.0000],\n",
            "          [-0.1843, -0.1608, -0.1843,  ...,  1.0000,  1.0000,  1.0000],\n",
            "          [-0.2157, -0.1922, -0.2235,  ...,  1.0000,  1.0000,  1.0000],\n",
            "          ...,\n",
            "          [ 0.5843,  0.5608,  0.4588,  ...,  0.5686,  0.5608,  0.5608],\n",
            "          [ 0.5137,  0.5216,  0.4667,  ...,  0.5608,  0.5451,  0.5373],\n",
            "          [ 0.4902,  0.5216,  0.5529,  ...,  0.5608,  0.5608,  0.5529]],\n",
            "\n",
            "         [[-0.1765, -0.1529, -0.1608,  ...,  1.0000,  1.0000,  1.0000],\n",
            "          [-0.1765, -0.1529, -0.1765,  ...,  1.0000,  1.0000,  1.0000],\n",
            "          [-0.1843, -0.1686, -0.1922,  ...,  1.0000,  1.0000,  1.0000],\n",
            "          ...,\n",
            "          [ 0.5843,  0.5608,  0.4510,  ...,  0.5686,  0.5608,  0.5529],\n",
            "          [ 0.5059,  0.5137,  0.4510,  ...,  0.5529,  0.5373,  0.5294],\n",
            "          [ 0.4824,  0.5137,  0.5451,  ...,  0.5529,  0.5529,  0.5451]],\n",
            "\n",
            "         [[-0.1137, -0.0824, -0.1059,  ...,  1.0000,  1.0000,  1.0000],\n",
            "          [-0.1137, -0.0902, -0.1294,  ...,  1.0000,  1.0000,  1.0000],\n",
            "          [-0.1373, -0.1137, -0.1451,  ...,  1.0000,  1.0000,  1.0000],\n",
            "          ...,\n",
            "          [ 0.5529,  0.5216,  0.4039,  ...,  0.5608,  0.5529,  0.5294],\n",
            "          [ 0.4745,  0.4824,  0.4196,  ...,  0.5294,  0.5216,  0.5137],\n",
            "          [ 0.4667,  0.4980,  0.5216,  ...,  0.5373,  0.5373,  0.5294]]],\n",
            "\n",
            "\n",
            "        ...,\n",
            "\n",
            "\n",
            "        [[[ 0.8667,  0.8902,  0.9294,  ...,  1.0000,  1.0000,  1.0000],\n",
            "          [ 0.8588,  0.8902,  0.9216,  ...,  0.9922,  0.9843,  0.9765],\n",
            "          [ 0.9059,  0.9216,  0.9373,  ...,  0.9529,  0.9294,  0.9216],\n",
            "          ...,\n",
            "          [ 0.7490,  0.7333,  0.6471,  ...,  0.7804,  0.8667,  0.9294],\n",
            "          [ 0.7647,  0.7333,  0.6235,  ...,  0.8275,  0.9216,  0.9216],\n",
            "          [ 0.6157,  0.7647,  0.9294,  ...,  0.6941,  0.7569,  0.8118]],\n",
            "\n",
            "         [[ 0.8667,  0.8824,  0.9059,  ...,  1.0000,  1.0000,  0.9922],\n",
            "          [ 0.8588,  0.8824,  0.8980,  ...,  0.9922,  0.9922,  0.9843],\n",
            "          [ 0.8980,  0.9059,  0.9137,  ...,  0.9608,  0.9529,  0.9686],\n",
            "          ...,\n",
            "          [ 0.6235,  0.5922,  0.4667,  ...,  0.6941,  0.8118,  0.8980],\n",
            "          [ 0.6941,  0.5922,  0.4275,  ...,  0.7176,  0.8667,  0.8980],\n",
            "          [ 0.5765,  0.6706,  0.7725,  ...,  0.4824,  0.5843,  0.6863]],\n",
            "\n",
            "         [[ 0.8980,  0.9216,  0.9451,  ...,  0.8275,  0.8196,  0.8431],\n",
            "          [ 0.8902,  0.9216,  0.9451,  ...,  0.8275,  0.8118,  0.8353],\n",
            "          [ 0.9373,  0.9451,  0.9608,  ...,  0.8745,  0.8588,  0.8902],\n",
            "          ...,\n",
            "          [ 0.5922,  0.4980,  0.3176,  ...,  0.4510,  0.5137,  0.5922],\n",
            "          [ 0.5608,  0.3647,  0.1216,  ...,  0.3804,  0.5294,  0.6078],\n",
            "          [ 0.4196,  0.4039,  0.4118,  ...,  0.2706,  0.3804,  0.5294]]],\n",
            "\n",
            "\n",
            "        [[[-0.0510, -0.0745, -0.0980,  ..., -0.3882, -0.3961, -0.4118],\n",
            "          [-0.0431, -0.0824, -0.0980,  ..., -0.3725, -0.4196, -0.3961],\n",
            "          [-0.0902, -0.1294, -0.1373,  ..., -0.2314, -0.4510, -0.4275],\n",
            "          ...,\n",
            "          [ 0.9843,  0.9843,  1.0000,  ..., -0.7098, -0.7569, -0.7255],\n",
            "          [ 0.9922,  0.9765,  0.9922,  ..., -0.7569, -0.7255, -0.7255],\n",
            "          [ 0.9922,  0.9765,  0.8980,  ..., -0.7804, -0.7098, -0.6784]],\n",
            "\n",
            "         [[-0.0510, -0.0745, -0.0980,  ..., -0.3882, -0.3961, -0.4118],\n",
            "          [-0.0431, -0.0824, -0.0980,  ..., -0.3490, -0.4196, -0.3961],\n",
            "          [-0.0902, -0.1294, -0.1373,  ..., -0.1922, -0.4510, -0.4275],\n",
            "          ...,\n",
            "          [ 0.9843,  0.9843,  1.0000,  ..., -0.7098, -0.7569, -0.7255],\n",
            "          [ 0.9922,  0.9765,  0.9922,  ..., -0.7569, -0.7255, -0.7255],\n",
            "          [ 0.9922,  0.9765,  0.8980,  ..., -0.7804, -0.7098, -0.6784]],\n",
            "\n",
            "         [[-0.0510, -0.0745, -0.0980,  ..., -0.3961, -0.3961, -0.4118],\n",
            "          [-0.0431, -0.0824, -0.0980,  ..., -0.3333, -0.4196, -0.3961],\n",
            "          [-0.0902, -0.1294, -0.1373,  ..., -0.1608, -0.4588, -0.4275],\n",
            "          ...,\n",
            "          [ 0.9843,  0.9843,  1.0000,  ..., -0.7098, -0.7569, -0.7255],\n",
            "          [ 0.9922,  0.9765,  0.9922,  ..., -0.7569, -0.7255, -0.7255],\n",
            "          [ 0.9922,  0.9765,  0.8980,  ..., -0.7804, -0.7098, -0.6784]]],\n",
            "\n",
            "\n",
            "        [[[ 0.9922,  0.9843,  0.9843,  ...,  0.9686,  0.9765,  0.9843],\n",
            "          [ 0.9608,  0.9608,  0.9686,  ...,  0.9529,  0.9608,  0.9686],\n",
            "          [ 0.9529,  0.9608,  0.9686,  ...,  0.9608,  0.9843,  0.9843],\n",
            "          ...,\n",
            "          [-0.8353, -0.8745, -0.8824,  ...,  0.8745,  0.9686,  0.5765],\n",
            "          [-0.8824, -0.8902, -0.8824,  ...,  0.9137,  0.9686,  0.9216],\n",
            "          [-0.8824, -0.8902, -0.8824,  ...,  0.7882,  0.8667,  0.8745]],\n",
            "\n",
            "         [[ 0.7020,  0.6863,  0.6941,  ...,  0.7333,  0.7412,  0.7490],\n",
            "          [ 0.6706,  0.6706,  0.6784,  ...,  0.7176,  0.7255,  0.7333],\n",
            "          [ 0.6627,  0.6706,  0.6784,  ...,  0.7255,  0.7490,  0.7490],\n",
            "          ...,\n",
            "          [-0.8275, -0.8902, -0.9059,  ...,  0.6078,  0.7804,  0.4353],\n",
            "          [-0.8824, -0.8980, -0.9137,  ...,  0.6784,  0.8353,  0.8667],\n",
            "          [-0.8824, -0.9059, -0.9137,  ...,  0.4353,  0.6000,  0.6706]],\n",
            "\n",
            "         [[ 0.1451,  0.1373,  0.1373,  ...,  0.2392,  0.2471,  0.2549],\n",
            "          [ 0.1216,  0.1216,  0.1294,  ...,  0.2314,  0.2471,  0.2471],\n",
            "          [ 0.1137,  0.1216,  0.1294,  ...,  0.2392,  0.2627,  0.2627],\n",
            "          ...,\n",
            "          [-0.8196, -0.8745, -0.8980,  ...,  0.1373,  0.4118,  0.1529],\n",
            "          [-0.8824, -0.8980, -0.9059,  ...,  0.3255,  0.5608,  0.6392],\n",
            "          [-0.8824, -0.8980, -0.9059,  ...,  0.0980,  0.2941,  0.3961]]]])\n"
          ]
        }
      ],
      "source": [
        "print(images)"
      ]
    },
    {
      "cell_type": "code",
      "execution_count": 7,
      "metadata": {
        "id": "U0iv6oB0zzGd"
      },
      "outputs": [
        {
          "name": "stdout",
          "output_type": "stream",
          "text": [
            "tensor([[[[ 3.8694e-01,  6.5245e-01,  7.4616e-01,  ...,  5.1189e-01,\n",
            "            4.6503e-01,  5.4312e-01],\n",
            "          [ 4.4941e-01,  6.0560e-01,  6.8369e-01,  ...,  3.8694e-01,\n",
            "            3.5570e-01,  4.4941e-01],\n",
            "          [ 4.6503e-01,  4.8065e-01,  6.2121e-01,  ...,  5.2750e-01,\n",
            "            5.8998e-01,  7.3054e-01],\n",
            "          ...,\n",
            "          [ 5.4312e-01,  4.3380e-01,  4.1818e-01,  ...,  6.6807e-01,\n",
            "            7.4616e-01,  6.8369e-01],\n",
            "          [ 4.3380e-01,  3.8694e-01,  4.1818e-01,  ...,  5.7436e-01,\n",
            "            7.1492e-01,  7.9301e-01],\n",
            "          [ 4.0256e-01,  3.5570e-01,  2.9323e-01,  ...,  6.5245e-01,\n",
            "            7.6178e-01,  7.4616e-01]],\n",
            "\n",
            "         [[ 3.2314e-01,  6.0498e-01,  7.0445e-01,  ...,  5.2209e-01,\n",
            "            4.8893e-01,  5.7182e-01],\n",
            "          [ 3.7288e-01,  5.5524e-01,  6.3814e-01,  ...,  3.8946e-01,\n",
            "            3.7288e-01,  4.7235e-01],\n",
            "          [ 4.0604e-01,  4.2261e-01,  5.7182e-01,  ...,  5.5524e-01,\n",
            "            6.2156e-01,  7.7077e-01],\n",
            "          ...,\n",
            "          [ 5.7182e-01,  4.5577e-01,  4.3919e-01,  ...,  6.7129e-01,\n",
            "            7.5419e-01,  6.8787e-01],\n",
            "          [ 4.5577e-01,  4.0604e-01,  4.3919e-01,  ...,  5.7182e-01,\n",
            "            7.2103e-01,  8.0392e-01],\n",
            "          [ 4.2261e-01,  3.7288e-01,  3.0656e-01,  ...,  6.5472e-01,\n",
            "            7.7077e-01,  7.5419e-01]],\n",
            "\n",
            "         [[ 5.2022e-01,  8.1361e-01,  9.1716e-01,  ...,  8.1361e-01,\n",
            "            7.6183e-01,  8.4812e-01],\n",
            "          [ 5.7199e-01,  7.6183e-01,  8.4812e-01,  ...,  6.7554e-01,\n",
            "            6.4102e-01,  7.4457e-01],\n",
            "          [ 6.0651e-01,  6.2377e-01,  7.7909e-01,  ...,  8.4812e-01,\n",
            "            8.9990e-01,  1.0552e+00],\n",
            "          ...,\n",
            "          [ 8.4812e-01,  7.2732e-01,  7.1006e-01,  ...,  9.3442e-01,\n",
            "            1.0380e+00,  9.6893e-01],\n",
            "          [ 7.2732e-01,  6.7554e-01,  7.1006e-01,  ...,  8.4812e-01,\n",
            "            1.0034e+00,  1.0897e+00],\n",
            "          [ 6.7554e-01,  6.4102e-01,  5.7199e-01,  ...,  9.1716e-01,\n",
            "            1.0552e+00,  1.0380e+00]]],\n",
            "\n",
            "\n",
            "        [[[-1.4092e+00, -1.0343e+00, -6.7510e-01,  ..., -1.7371e+00,\n",
            "           -1.7215e+00, -1.7528e+00],\n",
            "          [-1.2842e+00, -1.0031e+00, -7.3757e-01,  ..., -1.7528e+00,\n",
            "           -1.7371e+00, -1.7371e+00],\n",
            "          [-1.1593e+00, -9.8746e-01, -8.4690e-01,  ..., -1.7371e+00,\n",
            "           -1.7215e+00, -1.7215e+00],\n",
            "          ...,\n",
            "          [-8.1605e-02, -1.2846e-01, -1.4408e-01,  ..., -3.5137e-03,\n",
            "            1.9952e-01,  9.0195e-02],\n",
            "          [-8.1605e-02, -9.7223e-02, -6.5986e-02,  ..., -9.7223e-02,\n",
            "           -3.4750e-02, -3.5137e-03],\n",
            "          [-6.5986e-02,  1.2104e-02,  1.3705e-01,  ..., -1.4408e-01,\n",
            "           -1.4408e-01, -1.2846e-01]],\n",
            "\n",
            "         [[-1.4508e+00, -1.1192e+00, -7.7105e-01,  ..., -1.6829e+00,\n",
            "           -1.6829e+00, -1.7160e+00],\n",
            "          [-1.4176e+00, -1.1689e+00, -9.0368e-01,  ..., -1.6995e+00,\n",
            "           -1.6829e+00, -1.6829e+00],\n",
            "          [-1.3016e+00, -1.1689e+00, -1.0197e+00,  ..., -1.7160e+00,\n",
            "           -1.6995e+00, -1.6995e+00],\n",
            "          ...,\n",
            "          [-2.5010e-02, -7.4746e-02, -9.1324e-02,  ...,  8.1476e-03,\n",
            "            2.0709e-01,  1.0762e-01],\n",
            "          [-2.5010e-02, -4.1588e-02,  8.1476e-03,  ..., -1.0790e-01,\n",
            "           -5.8167e-02, -2.5010e-02],\n",
            "          [ 8.1476e-03,  9.1041e-02,  2.2367e-01,  ..., -1.9080e-01,\n",
            "           -2.0737e-01, -2.0737e-01]],\n",
            "\n",
            "         [[-1.4300e+00, -9.6400e-01, -6.3609e-01,  ..., -1.5680e+00,\n",
            "           -1.5680e+00, -1.6026e+00],\n",
            "          [-1.2747e+00, -1.0330e+00, -8.6045e-01,  ..., -1.5680e+00,\n",
            "           -1.5508e+00, -1.5508e+00],\n",
            "          [-1.1193e+00, -1.1538e+00, -1.1711e+00,  ..., -1.6198e+00,\n",
            "           -1.6026e+00, -1.6026e+00],\n",
            "          ...,\n",
            "          [ 5.4241e-02,  2.4659e-03, -1.4792e-02,  ...,  1.0602e-01,\n",
            "            3.1312e-01,  1.9231e-01],\n",
            "          [ 3.6983e-02,  3.6983e-02,  7.1499e-02,  ..., -8.3826e-02,\n",
            "           -1.4792e-02,  1.9724e-02],\n",
            "          [ 3.6983e-02,  1.2327e-01,  2.6134e-01,  ..., -2.2189e-01,\n",
            "           -2.2189e-01, -1.8738e-01]]],\n",
            "\n",
            "\n",
            "        [[[-3.1588e-01, -2.5340e-01, -2.8464e-01,  ...,  2.0269e+00,\n",
            "            2.0269e+00,  2.0269e+00],\n",
            "          [-3.3150e-01, -2.8464e-01, -3.3150e-01,  ...,  2.0269e+00,\n",
            "            2.0269e+00,  2.0269e+00],\n",
            "          [-3.9397e-01, -3.4711e-01, -4.0959e-01,  ...,  2.0269e+00,\n",
            "            2.0269e+00,  2.0269e+00],\n",
            "          ...,\n",
            "          [ 1.1991e+00,  1.1522e+00,  9.4920e-01,  ...,  1.1679e+00,\n",
            "            1.1522e+00,  1.1522e+00],\n",
            "          [ 1.0585e+00,  1.0741e+00,  9.6481e-01,  ...,  1.1522e+00,\n",
            "            1.1210e+00,  1.1054e+00],\n",
            "          [ 1.0117e+00,  1.0741e+00,  1.1366e+00,  ...,  1.1522e+00,\n",
            "            1.1522e+00,  1.1366e+00]],\n",
            "\n",
            "         [[-2.0737e-01, -1.5764e-01, -1.7422e-01,  ...,  2.2794e+00,\n",
            "            2.2794e+00,  2.2794e+00],\n",
            "          [-2.0737e-01, -1.5764e-01, -2.0737e-01,  ...,  2.2794e+00,\n",
            "            2.2794e+00,  2.2794e+00],\n",
            "          [-2.2395e-01, -1.9080e-01, -2.4053e-01,  ...,  2.2794e+00,\n",
            "            2.2794e+00,  2.2794e+00],\n",
            "          ...,\n",
            "          [ 1.4008e+00,  1.3510e+00,  1.1189e+00,  ...,  1.3676e+00,\n",
            "            1.3510e+00,  1.3344e+00],\n",
            "          [ 1.2350e+00,  1.2515e+00,  1.1189e+00,  ...,  1.3344e+00,\n",
            "            1.3013e+00,  1.2847e+00],\n",
            "          [ 1.1852e+00,  1.2515e+00,  1.3179e+00,  ...,  1.3344e+00,\n",
            "            1.3344e+00,  1.3179e+00]],\n",
            "\n",
            "         [[ 2.0957e-01,  2.7860e-01,  2.2682e-01,  ...,  2.6602e+00,\n",
            "            2.6602e+00,  2.6602e+00],\n",
            "          [ 2.0957e-01,  2.6134e-01,  1.7505e-01,  ...,  2.6602e+00,\n",
            "            2.6602e+00,  2.6602e+00],\n",
            "          [ 1.5779e-01,  2.0957e-01,  1.4053e-01,  ...,  2.6602e+00,\n",
            "            2.6602e+00,  2.6602e+00],\n",
            "          ...,\n",
            "          [ 1.6765e+00,  1.6075e+00,  1.3486e+00,  ...,  1.6938e+00,\n",
            "            1.6765e+00,  1.6247e+00],\n",
            "          [ 1.5039e+00,  1.5212e+00,  1.3831e+00,  ...,  1.6247e+00,\n",
            "            1.6075e+00,  1.5902e+00],\n",
            "          [ 1.4867e+00,  1.5557e+00,  1.6075e+00,  ...,  1.6420e+00,\n",
            "            1.6420e+00,  1.6247e+00]]],\n",
            "\n",
            "\n",
            "        ...,\n",
            "\n",
            "\n",
            "        [[[ 1.7613e+00,  1.8082e+00,  1.8863e+00,  ...,  2.0269e+00,\n",
            "            2.0269e+00,  2.0269e+00],\n",
            "          [ 1.7457e+00,  1.8082e+00,  1.8707e+00,  ...,  2.0112e+00,\n",
            "            1.9956e+00,  1.9800e+00],\n",
            "          [ 1.8394e+00,  1.8707e+00,  1.9019e+00,  ...,  1.9331e+00,\n",
            "            1.8863e+00,  1.8707e+00],\n",
            "          ...,\n",
            "          [ 1.5271e+00,  1.4958e+00,  1.3240e+00,  ...,  1.5895e+00,\n",
            "            1.7613e+00,  1.8863e+00],\n",
            "          [ 1.5583e+00,  1.4958e+00,  1.2772e+00,  ...,  1.6833e+00,\n",
            "            1.8707e+00,  1.8707e+00],\n",
            "          [ 1.2616e+00,  1.5583e+00,  1.8863e+00,  ...,  1.4177e+00,\n",
            "            1.5427e+00,  1.6520e+00]],\n",
            "\n",
            "         [[ 1.9976e+00,  2.0307e+00,  2.0805e+00,  ...,  2.2794e+00,\n",
            "            2.2794e+00,  2.2628e+00],\n",
            "          [ 1.9810e+00,  2.0307e+00,  2.0639e+00,  ...,  2.2628e+00,\n",
            "            2.2628e+00,  2.2463e+00],\n",
            "          [ 2.0639e+00,  2.0805e+00,  2.0971e+00,  ...,  2.1965e+00,\n",
            "            2.1800e+00,  2.2131e+00],\n",
            "          ...,\n",
            "          [ 1.4836e+00,  1.4173e+00,  1.1521e+00,  ...,  1.6329e+00,\n",
            "            1.8815e+00,  2.0639e+00],\n",
            "          [ 1.6329e+00,  1.4173e+00,  1.0692e+00,  ...,  1.6826e+00,\n",
            "            1.9976e+00,  2.0639e+00],\n",
            "          [ 1.3842e+00,  1.5831e+00,  1.7986e+00,  ...,  1.1852e+00,\n",
            "            1.4008e+00,  1.6163e+00]],\n",
            "\n",
            "         [[ 2.4359e+00,  2.4877e+00,  2.5394e+00,  ...,  2.2806e+00,\n",
            "            2.2633e+00,  2.3151e+00],\n",
            "          [ 2.4186e+00,  2.4877e+00,  2.5394e+00,  ...,  2.2806e+00,\n",
            "            2.2460e+00,  2.2978e+00],\n",
            "          [ 2.5222e+00,  2.5394e+00,  2.5740e+00,  ...,  2.3841e+00,\n",
            "            2.3496e+00,  2.4186e+00],\n",
            "          ...,\n",
            "          [ 1.7628e+00,  1.5557e+00,  1.1588e+00,  ...,  1.4522e+00,\n",
            "            1.5902e+00,  1.7628e+00],\n",
            "          [ 1.6938e+00,  1.2623e+00,  7.2732e-01,  ...,  1.2968e+00,\n",
            "            1.6247e+00,  1.7973e+00],\n",
            "          [ 1.3831e+00,  1.3486e+00,  1.3659e+00,  ...,  1.0552e+00,\n",
            "            1.2968e+00,  1.6247e+00]]],\n",
            "\n",
            "\n",
            "        [[[-6.5986e-02, -1.1284e-01, -1.5970e-01,  ..., -7.3757e-01,\n",
            "           -7.5319e-01, -7.8442e-01],\n",
            "          [-5.0368e-02, -1.2846e-01, -1.5970e-01,  ..., -7.0633e-01,\n",
            "           -8.0004e-01, -7.5319e-01],\n",
            "          [-1.4408e-01, -2.2217e-01, -2.3779e-01,  ..., -4.2520e-01,\n",
            "           -8.6251e-01, -8.1566e-01],\n",
            "          ...,\n",
            "          [ 1.9956e+00,  1.9956e+00,  2.0269e+00,  ..., -1.3779e+00,\n",
            "           -1.4716e+00, -1.4092e+00],\n",
            "          [ 2.0112e+00,  1.9800e+00,  2.0112e+00,  ..., -1.4716e+00,\n",
            "           -1.4092e+00, -1.4092e+00],\n",
            "          [ 2.0112e+00,  1.9800e+00,  1.8238e+00,  ..., -1.5185e+00,\n",
            "           -1.3779e+00, -1.3154e+00]],\n",
            "\n",
            "         [[ 5.7884e-02,  8.1476e-03, -4.1588e-02,  ..., -6.5500e-01,\n",
            "           -6.7158e-01, -7.0473e-01],\n",
            "          [ 7.4462e-02, -8.4310e-03, -4.1588e-02,  ..., -5.7211e-01,\n",
            "           -7.2131e-01, -6.7158e-01],\n",
            "          [-2.5010e-02, -1.0790e-01, -1.2448e-01,  ..., -2.4053e-01,\n",
            "           -7.8763e-01, -7.3789e-01],\n",
            "          ...,\n",
            "          [ 2.2463e+00,  2.2463e+00,  2.2794e+00,  ..., -1.3347e+00,\n",
            "           -1.4342e+00, -1.3679e+00],\n",
            "          [ 2.2628e+00,  2.2297e+00,  2.2628e+00,  ..., -1.4342e+00,\n",
            "           -1.3679e+00, -1.3679e+00],\n",
            "          [ 2.2628e+00,  2.2297e+00,  2.0639e+00,  ..., -1.4839e+00,\n",
            "           -1.3347e+00, -1.2684e+00]],\n",
            "\n",
            "         [[ 3.4763e-01,  2.9586e-01,  2.4408e-01,  ..., -4.1173e-01,\n",
            "           -4.1173e-01, -4.4625e-01],\n",
            "          [ 3.6489e-01,  2.7860e-01,  2.4408e-01,  ..., -2.7367e-01,\n",
            "           -4.6351e-01, -4.1173e-01],\n",
            "          [ 2.6134e-01,  1.7505e-01,  1.5779e-01,  ...,  1.0602e-01,\n",
            "           -5.4980e-01, -4.8077e-01],\n",
            "          ...,\n",
            "          [ 2.6257e+00,  2.6257e+00,  2.6602e+00,  ..., -1.1021e+00,\n",
            "           -1.2056e+00, -1.1366e+00],\n",
            "          [ 2.6430e+00,  2.6085e+00,  2.6430e+00,  ..., -1.2056e+00,\n",
            "           -1.1366e+00, -1.1366e+00],\n",
            "          [ 2.6430e+00,  2.6085e+00,  2.4359e+00,  ..., -1.2574e+00,\n",
            "           -1.1021e+00, -1.0330e+00]]],\n",
            "\n",
            "\n",
            "        [[[ 2.0112e+00,  1.9956e+00,  1.9956e+00,  ...,  1.9644e+00,\n",
            "            1.9800e+00,  1.9956e+00],\n",
            "          [ 1.9488e+00,  1.9488e+00,  1.9644e+00,  ...,  1.9331e+00,\n",
            "            1.9488e+00,  1.9644e+00],\n",
            "          [ 1.9331e+00,  1.9488e+00,  1.9644e+00,  ...,  1.9488e+00,\n",
            "            1.9956e+00,  1.9956e+00],\n",
            "          ...,\n",
            "          [-1.6278e+00, -1.7059e+00, -1.7215e+00,  ...,  1.7770e+00,\n",
            "            1.9644e+00,  1.1835e+00],\n",
            "          [-1.7215e+00, -1.7371e+00, -1.7215e+00,  ...,  1.8551e+00,\n",
            "            1.9644e+00,  1.8707e+00],\n",
            "          [-1.7215e+00, -1.7371e+00, -1.7215e+00,  ...,  1.6052e+00,\n",
            "            1.7613e+00,  1.7770e+00]],\n",
            "\n",
            "         [[ 1.6494e+00,  1.6163e+00,  1.6329e+00,  ...,  1.7157e+00,\n",
            "            1.7323e+00,  1.7489e+00],\n",
            "          [ 1.5831e+00,  1.5831e+00,  1.5997e+00,  ...,  1.6826e+00,\n",
            "            1.6992e+00,  1.7157e+00],\n",
            "          [ 1.5665e+00,  1.5831e+00,  1.5997e+00,  ...,  1.6992e+00,\n",
            "            1.7489e+00,  1.7489e+00],\n",
            "          ...,\n",
            "          [-1.5834e+00, -1.7160e+00, -1.7492e+00,  ...,  1.4505e+00,\n",
            "            1.8152e+00,  1.0858e+00],\n",
            "          [-1.6995e+00, -1.7326e+00, -1.7658e+00,  ...,  1.5997e+00,\n",
            "            1.9313e+00,  1.9976e+00],\n",
            "          [-1.6995e+00, -1.7492e+00, -1.7658e+00,  ...,  1.0858e+00,\n",
            "            1.4339e+00,  1.5831e+00]],\n",
            "\n",
            "         [[ 7.7909e-01,  7.6183e-01,  7.6183e-01,  ...,  9.8619e-01,\n",
            "            1.0034e+00,  1.0207e+00],\n",
            "          [ 7.2732e-01,  7.2732e-01,  7.4457e-01,  ...,  9.6893e-01,\n",
            "            1.0034e+00,  1.0034e+00],\n",
            "          [ 7.1006e-01,  7.2732e-01,  7.4457e-01,  ...,  9.8619e-01,\n",
            "            1.0380e+00,  1.0380e+00],\n",
            "          ...,\n",
            "          [-1.3437e+00, -1.4645e+00, -1.5163e+00,  ...,  7.6183e-01,\n",
            "            1.3659e+00,  7.9635e-01],\n",
            "          [-1.4818e+00, -1.5163e+00, -1.5335e+00,  ...,  1.1760e+00,\n",
            "            1.6938e+00,  1.8664e+00],\n",
            "          [-1.4818e+00, -1.5163e+00, -1.5335e+00,  ...,  6.7554e-01,\n",
            "            1.1070e+00,  1.3314e+00]]]], grad_fn=<NativeBatchNormBackward0>)\n"
          ]
        }
      ],
      "source": [
        "print(output_BN)"
      ]
    },
    {
      "cell_type": "markdown",
      "metadata": {
        "id": "OKa3BdDeFO-F"
      },
      "source": [
        "### Dropout\n",
        "\n",
        "Another technique to train deep learning models is dropout.\n",
        "\n",
        "Conceptually, dropout approximates training a large number of neural networks with different architectures in parallel.\n",
        "\n",
        "> In practice, during training, some number of layer outputs are randomly ignored (dropped out) with probability $p$.\n",
        "\n",
        "Thus, the same layer will alter its connectivity and will search for alternative paths to convey the information in the next layer. As a result, each update to a layer during training is performed with a different “view” of the configured layer.\n",
        "\n",
        "“Dropping” values means temporarily removing them from the network for the current forward pass along with all its incoming and outgoing connections.\n",
        "\n",
        "Dropout has the effect of making the training process noisy. The choice of the probability $p$ depends on the architecture.\n",
        "\n",
        "![pic](https://raw.githubusercontent.com/CUTe-EmbeddedAI/images/main/images/fig27.PNG)\n",
        "This conceptualization suggests that perhaps dropout breaks-up situations where network layers co-adapt to correct mistakes from prior layers, in turn making the model more robust.\n",
        "\n",
        "The neural network will adapt in a way that prevents overfitting, which refers to poor generalization to unseen data.\n",
        "\n",
        "Dropout increases the sparsity of the network and in general encourages sparse representations!\n",
        "\n",
        "You can find an example in the code below .\n",
        "\n",
        "Notice that each value will be zeroed with a probability of p=0.5. Nonetheless, that doesn’t imply that the output will be 50% zeroed-out every time."
      ]
    },
    {
      "cell_type": "code",
      "execution_count": null,
      "metadata": {
        "colab": {
          "base_uri": "https://localhost:8080/"
        },
        "id": "TkEyw3pDFO-I",
        "outputId": "b64f1901-bf97-41b8-dd4d-da3eeb19e074"
      },
      "outputs": [
        {
          "name": "stdout",
          "output_type": "stream",
          "text": [
            "tensor([[0.6257, 0.9145, 0.6141, 0.4462, 0.6239, 0.4524, 0.5738, 0.4249]])\n",
            "tensor([[0.0000, 1.8291, 1.2281, 0.8925, 0.0000, 0.0000, 0.0000, 0.8498]])\n",
            "tensor([[1.2514, 0.0000, 1.2281, 0.8925, 1.2477, 0.0000, 1.1475, 0.0000]])\n"
          ]
        }
      ],
      "source": [
        "import torch\n",
        "import torch.nn as nn\n",
        "\n",
        "inp = torch.rand(1,8) \n",
        "dropout_layer = nn.Dropout(0.5)\n",
        "out1 = dropout_layer(inp)\n",
        "out2 = dropout_layer(inp)\n",
        "print(inp)\n",
        "print(out1)\n",
        "print(out2)"
      ]
    },
    {
      "cell_type": "markdown",
      "metadata": {
        "id": "G2vah6ZTFO-L"
      },
      "source": [
        "### Training with batchnorm\n",
        "\n",
        "Now, it's the time to apply batchnorm and dropout! Let's copy and paste the code for training a CNN in our previous notebook."
      ]
    },
    {
      "cell_type": "markdown",
      "metadata": {
        "id": "PhztnMavFO-X"
      },
      "source": [
        "Here, try to incorporate batchnorm as a layer in this vanilla CNN.\n",
        "\n",
        "Note that in pytorch, batchnorm can be implemented using `nn.BatchNorm2d(num_features)` for 2D input and `nn.BatchNorm2d(num_features)` for 1D input."
      ]
    },
    {
      "cell_type": "markdown",
      "metadata": {
        "id": "DLDK3OpMFO-k"
      },
      "source": [
        "### Training with dropout\n",
        "\n",
        "Adding dropout to your PyTorch models is very straightforward with the `torch.nn.Dropout` class, which takes in the dropout rate – the probability of a neuron being deactivated – as a parameter.\n",
        "\n",
        "Go back to the CNN class and try to incorporate dropout as an additional layer in the fully connected layer."
      ]
    },
    {
      "cell_type": "code",
      "execution_count": 9,
      "metadata": {
        "id": "aocAQZf_FO-Z"
      },
      "outputs": [],
      "source": [
        "#1. DEFINE THE CNN WITH BATCHNORM\n",
        "class CNN(nn.Module):\n",
        "    def __init__(self):\n",
        "        super(CNN, self).__init__()\n",
        "        self.conv1 = nn.Conv2d(3, 6, 5)\n",
        "        self.pool = nn.MaxPool2d(2, 2)\n",
        "        self.batchnorm1 = nn.BatchNorm2d(6) # defining our batchnorm1 layer\n",
        "        self.conv2 = nn.Conv2d(6, 16, 5)\n",
        "        self.batchnorm2 = nn.BatchNorm2d(16) # defining our batchnorm2 layer\n",
        "        self.fc1 = nn.Linear(16 * 5 * 5, 120)\n",
        "        self.fc2 = nn.Linear(120, 84)\n",
        "        self.fc3 = nn.Linear(84, 10)\n",
        "        self.relu = nn.ReLU()\n",
        "\n",
        "    def forward(self, x):\n",
        "        x = self.pool(self.relu(self.conv1(x)))\n",
        "        # INCLUDE BATCHNORM IN THE FORWARD METHOD #\n",
        "        x = self.batchnorm1(x)\n",
        "        x = self.pool(self.relu(self.conv2(x)))\n",
        "        # INCLUDE BATCHNORM IN THE FORWARD METHOD #\n",
        "        x = self.batchnorm2(x)\n",
        "        x = x.view(-1, 16 * 5 * 5)\n",
        "        x = self.relu(self.fc1(x))\n",
        "        x = self.relu(self.fc2(x))\n",
        "        x = self.fc3(x)\n",
        "        return x\n"
      ]
    },
    {
      "cell_type": "code",
      "execution_count": 10,
      "metadata": {
        "colab": {
          "base_uri": "https://localhost:8080/"
        },
        "id": "vgWT1BGZFO-b",
        "outputId": "79d50119-36d0-4b27-d61d-dee86efa9e86"
      },
      "outputs": [
        {
          "data": {
            "text/plain": [
              "CNN(\n",
              "  (conv1): Conv2d(3, 6, kernel_size=(5, 5), stride=(1, 1))\n",
              "  (pool): MaxPool2d(kernel_size=2, stride=2, padding=0, dilation=1, ceil_mode=False)\n",
              "  (batchnorm1): BatchNorm2d(6, eps=1e-05, momentum=0.1, affine=True, track_running_stats=True)\n",
              "  (conv2): Conv2d(6, 16, kernel_size=(5, 5), stride=(1, 1))\n",
              "  (batchnorm2): BatchNorm2d(16, eps=1e-05, momentum=0.1, affine=True, track_running_stats=True)\n",
              "  (fc1): Linear(in_features=400, out_features=120, bias=True)\n",
              "  (fc2): Linear(in_features=120, out_features=84, bias=True)\n",
              "  (fc3): Linear(in_features=84, out_features=10, bias=True)\n",
              "  (relu): ReLU()\n",
              ")"
            ]
          },
          "execution_count": 10,
          "metadata": {},
          "output_type": "execute_result"
        }
      ],
      "source": [
        "model = CNN() # need to instantiate the network to be used in instance method\n",
        "\n",
        "# LOSS AND OPTIMIZER\n",
        "loss_fn = nn.CrossEntropyLoss()\n",
        "optimizer = torch.optim.SGD(model.parameters(), lr=0.001, momentum=0.9)\n",
        "\n",
        "# move the model to GPU\n",
        "device = torch.device('cuda:0' if torch.cuda.is_available() else 'cpu')\n",
        "model.to(device)"
      ]
    },
    {
      "cell_type": "code",
      "execution_count": 11,
      "metadata": {
        "id": "iqUb-WREFO-e"
      },
      "outputs": [
        {
          "name": "stderr",
          "output_type": "stream",
          "text": [
            "c:\\IIUM\\AI Note IIUM\\venv\\lib\\site-packages\\tqdm\\auto.py:21: TqdmWarning: IProgress not found. Please update jupyter and ipywidgets. See https://ipywidgets.readthedocs.io/en/stable/user_install.html\n",
            "  from .autonotebook import tqdm as notebook_tqdm\n"
          ]
        }
      ],
      "source": [
        "import time\n",
        "from tqdm.auto import tqdm\n",
        "\n",
        "# Train in one epoch function\n",
        "def train_one_epoch(model, train_loader, loss_fn, optimizer, device):\n",
        "    model.train()\n",
        "    train_loss, train_correct = 0, 0\n",
        "\n",
        "    for inputs, labels in train_loader:\n",
        "        inputs, labels = inputs.to(device), labels.to(device)\n",
        "\n",
        "        optimizer.zero_grad()\n",
        "        outputs = model(inputs)\n",
        "        loss = loss_fn(outputs, labels)\n",
        "        loss.backward()\n",
        "        optimizer.step()\n",
        "\n",
        "        train_loss += loss.item() * inputs.size(0)\n",
        "        _, predictions = torch.max(outputs, 1)\n",
        "        train_correct += torch.sum(predictions == labels.data)\n",
        "\n",
        "    return train_loss / len(train_loader.dataset), train_correct.double() / len(train_loader.dataset)\n",
        "\n",
        "# Validation function\n",
        "def validate(model, val_loader, loss_fn, device):\n",
        "    model.eval()\n",
        "    val_loss, val_correct = 0, 0\n",
        "\n",
        "    with torch.no_grad():\n",
        "        for inputs, labels in val_loader:\n",
        "            inputs, labels = inputs.to(device), labels.to(device)\n",
        "            outputs = model(inputs)\n",
        "            loss = loss_fn(outputs, labels)\n",
        "\n",
        "            val_loss += loss.item() * inputs.size(0)\n",
        "            _, predictions = torch.max(outputs, 1)\n",
        "            val_correct += torch.sum(predictions == labels.data)\n",
        "\n",
        "    return val_loss / len(val_loader.dataset), val_correct.double() / len(val_loader.dataset)\n",
        "\n",
        "# Training and validation loop with timing\n",
        "def train_and_validate(model, train_loader, val_loader, loss_fn, optimizer, epochs, device='cuda'):\n",
        "    model.to(device)\n",
        "    history = {\n",
        "        'train_loss': [],\n",
        "        'train_accuracy': [],\n",
        "        'val_loss': [],\n",
        "        'val_accuracy': []\n",
        "    }\n",
        "\n",
        "    for epoch in tqdm(range(epochs), desc=\"Training Progress\", leave=True):\n",
        "        epoch_start_time = time.time()\n",
        "\n",
        "        train_loss, train_accuracy = train_one_epoch(model, train_loader, loss_fn, optimizer, device)\n",
        "        val_loss, val_accuracy = validate(model, val_loader, loss_fn, device)\n",
        "\n",
        "        history['train_loss'].append(train_loss)\n",
        "        history['train_accuracy'].append(train_accuracy.item())\n",
        "        history['val_loss'].append(val_loss)\n",
        "        history['val_accuracy'].append(val_accuracy.item())\n",
        "\n",
        "        epoch_end_time = time.time()\n",
        "\n",
        "        # Use tqdm.write() instead of print() to avoid extra blank lines\n",
        "        tqdm.write(f'Epoch {epoch+1}/{epochs}: Train loss: {train_loss:.4f}, Train accuracy: {train_accuracy:.4f}, '\n",
        "                   f'Val loss: {val_loss:.4f}, Val accuracy: {val_accuracy:.4f}, '\n",
        "                   f'Time: {(epoch_end_time - epoch_start_time):.2f}s')\n",
        "\n",
        "    return model, history"
      ]
    },
    {
      "cell_type": "code",
      "execution_count": 12,
      "metadata": {
        "colab": {
          "base_uri": "https://localhost:8080/",
          "height": 223,
          "referenced_widgets": [
            "13583170358c4c0da03ab7252553976e",
            "e50ba2d39a374e9096c112ad4798e3f5",
            "316e81bafbb64beb8db9d30f37a2ec03",
            "8aaf4e25d45842b58dc62d1c7ee68d69",
            "5518e78b3c1248cdbca2ccaee224ad63",
            "7b7efc4cb753414185b700dddd363d11",
            "6744fd744e084633ac5a93bd05ab0037",
            "85b5bc6751764beab6689e6dcdaec549",
            "d5936b8de2f54622a0a8512418647923",
            "786a4ea44f7340b988d9c94323e62a38",
            "683b8cc4e9bf43cdb43595ffb3746db1"
          ]
        },
        "id": "ngaHvvWZFO-i",
        "outputId": "336f971f-152e-4992-9b2f-bcf363574021"
      },
      "outputs": [
        {
          "name": "stderr",
          "output_type": "stream",
          "text": [
            "Training Progress:  10%|█         | 1/10 [00:49<07:24, 49.37s/it]"
          ]
        },
        {
          "name": "stdout",
          "output_type": "stream",
          "text": [
            "Epoch 1/10: Train loss: 1.6419, Train accuracy: 0.4042, Val loss: 1.3480, Val accuracy: 0.5109, Time: 49.37s\n"
          ]
        },
        {
          "name": "stderr",
          "output_type": "stream",
          "text": [
            "Training Progress:  20%|██        | 2/10 [01:38<06:34, 49.30s/it]"
          ]
        },
        {
          "name": "stdout",
          "output_type": "stream",
          "text": [
            "Epoch 2/10: Train loss: 1.2856, Train accuracy: 0.5387, Val loss: 1.2159, Val accuracy: 0.5597, Time: 49.25s\n"
          ]
        },
        {
          "name": "stderr",
          "output_type": "stream",
          "text": [
            "Training Progress:  30%|███       | 3/10 [02:28<05:45, 49.42s/it]"
          ]
        },
        {
          "name": "stdout",
          "output_type": "stream",
          "text": [
            "Epoch 3/10: Train loss: 1.1529, Train accuracy: 0.5892, Val loss: 1.1280, Val accuracy: 0.5969, Time: 49.55s\n"
          ]
        },
        {
          "name": "stderr",
          "output_type": "stream",
          "text": [
            "Training Progress:  40%|████      | 4/10 [03:15<04:52, 48.74s/it]"
          ]
        },
        {
          "name": "stdout",
          "output_type": "stream",
          "text": [
            "Epoch 4/10: Train loss: 1.0627, Train accuracy: 0.6227, Val loss: 1.0609, Val accuracy: 0.6276, Time: 47.71s\n"
          ]
        },
        {
          "name": "stderr",
          "output_type": "stream",
          "text": [
            "Training Progress:  50%|█████     | 5/10 [04:03<04:01, 48.32s/it]"
          ]
        },
        {
          "name": "stdout",
          "output_type": "stream",
          "text": [
            "Epoch 5/10: Train loss: 0.9986, Train accuracy: 0.6455, Val loss: 1.0270, Val accuracy: 0.6368, Time: 47.57s\n"
          ]
        },
        {
          "name": "stderr",
          "output_type": "stream",
          "text": [
            "Training Progress:  60%|██████    | 6/10 [04:52<03:14, 48.66s/it]"
          ]
        },
        {
          "name": "stdout",
          "output_type": "stream",
          "text": [
            "Epoch 6/10: Train loss: 0.9458, Train accuracy: 0.6654, Val loss: 1.0165, Val accuracy: 0.6468, Time: 49.31s\n"
          ]
        },
        {
          "name": "stderr",
          "output_type": "stream",
          "text": [
            "Training Progress:  70%|███████   | 7/10 [05:41<02:25, 48.59s/it]"
          ]
        },
        {
          "name": "stdout",
          "output_type": "stream",
          "text": [
            "Epoch 7/10: Train loss: 0.8987, Train accuracy: 0.6845, Val loss: 0.9815, Val accuracy: 0.6572, Time: 48.43s\n"
          ]
        },
        {
          "name": "stderr",
          "output_type": "stream",
          "text": [
            "Training Progress:  80%|████████  | 8/10 [06:29<01:37, 48.62s/it]"
          ]
        },
        {
          "name": "stdout",
          "output_type": "stream",
          "text": [
            "Epoch 8/10: Train loss: 0.8616, Train accuracy: 0.6969, Val loss: 0.9918, Val accuracy: 0.6539, Time: 48.70s\n"
          ]
        },
        {
          "name": "stderr",
          "output_type": "stream",
          "text": [
            "Training Progress:  80%|████████  | 8/10 [06:45<01:41, 50.67s/it]\n"
          ]
        },
        {
          "ename": "KeyboardInterrupt",
          "evalue": "",
          "output_type": "error",
          "traceback": [
            "\u001b[1;31m---------------------------------------------------------------------------\u001b[0m",
            "\u001b[1;31mKeyboardInterrupt\u001b[0m                         Traceback (most recent call last)",
            "Cell \u001b[1;32mIn[12], line 2\u001b[0m\n\u001b[0;32m      1\u001b[0m num_epochs \u001b[38;5;241m=\u001b[39m\u001b[38;5;241m10\u001b[39m\n\u001b[1;32m----> 2\u001b[0m trained_model, history \u001b[38;5;241m=\u001b[39m \u001b[43mtrain_and_validate\u001b[49m\u001b[43m(\u001b[49m\u001b[43mmodel\u001b[49m\u001b[43m,\u001b[49m\u001b[43m \u001b[49m\u001b[43mtrain_dataloader\u001b[49m\u001b[43m,\u001b[49m\u001b[43m \u001b[49m\u001b[43mtest_dataloader\u001b[49m\u001b[43m,\u001b[49m\u001b[43m \u001b[49m\u001b[43mloss_fn\u001b[49m\u001b[43m,\u001b[49m\u001b[43m \u001b[49m\u001b[43moptimizer\u001b[49m\u001b[43m,\u001b[49m\u001b[43m \u001b[49m\u001b[43mnum_epochs\u001b[49m\u001b[43m)\u001b[49m\n",
            "Cell \u001b[1;32mIn[11], line 54\u001b[0m, in \u001b[0;36mtrain_and_validate\u001b[1;34m(model, train_loader, val_loader, loss_fn, optimizer, epochs, device)\u001b[0m\n\u001b[0;32m     51\u001b[0m \u001b[38;5;28;01mfor\u001b[39;00m epoch \u001b[38;5;129;01min\u001b[39;00m tqdm(\u001b[38;5;28mrange\u001b[39m(epochs), desc\u001b[38;5;241m=\u001b[39m\u001b[38;5;124m\"\u001b[39m\u001b[38;5;124mTraining Progress\u001b[39m\u001b[38;5;124m\"\u001b[39m, leave\u001b[38;5;241m=\u001b[39m\u001b[38;5;28;01mTrue\u001b[39;00m):\n\u001b[0;32m     52\u001b[0m     epoch_start_time \u001b[38;5;241m=\u001b[39m time\u001b[38;5;241m.\u001b[39mtime()\n\u001b[1;32m---> 54\u001b[0m     train_loss, train_accuracy \u001b[38;5;241m=\u001b[39m \u001b[43mtrain_one_epoch\u001b[49m\u001b[43m(\u001b[49m\u001b[43mmodel\u001b[49m\u001b[43m,\u001b[49m\u001b[43m \u001b[49m\u001b[43mtrain_loader\u001b[49m\u001b[43m,\u001b[49m\u001b[43m \u001b[49m\u001b[43mloss_fn\u001b[49m\u001b[43m,\u001b[49m\u001b[43m \u001b[49m\u001b[43moptimizer\u001b[49m\u001b[43m,\u001b[49m\u001b[43m \u001b[49m\u001b[43mdevice\u001b[49m\u001b[43m)\u001b[49m\n\u001b[0;32m     55\u001b[0m     val_loss, val_accuracy \u001b[38;5;241m=\u001b[39m validate(model, val_loader, loss_fn, device)\n\u001b[0;32m     57\u001b[0m     history[\u001b[38;5;124m'\u001b[39m\u001b[38;5;124mtrain_loss\u001b[39m\u001b[38;5;124m'\u001b[39m]\u001b[38;5;241m.\u001b[39mappend(train_loss)\n",
            "Cell \u001b[1;32mIn[11], line 9\u001b[0m, in \u001b[0;36mtrain_one_epoch\u001b[1;34m(model, train_loader, loss_fn, optimizer, device)\u001b[0m\n\u001b[0;32m      6\u001b[0m model\u001b[38;5;241m.\u001b[39mtrain()\n\u001b[0;32m      7\u001b[0m train_loss, train_correct \u001b[38;5;241m=\u001b[39m \u001b[38;5;241m0\u001b[39m, \u001b[38;5;241m0\u001b[39m\n\u001b[1;32m----> 9\u001b[0m \u001b[38;5;28;01mfor\u001b[39;00m inputs, labels \u001b[38;5;129;01min\u001b[39;00m train_loader:\n\u001b[0;32m     10\u001b[0m     inputs, labels \u001b[38;5;241m=\u001b[39m inputs\u001b[38;5;241m.\u001b[39mto(device), labels\u001b[38;5;241m.\u001b[39mto(device)\n\u001b[0;32m     12\u001b[0m     optimizer\u001b[38;5;241m.\u001b[39mzero_grad()\n",
            "File \u001b[1;32mc:\\IIUM\\AI Note IIUM\\venv\\lib\\site-packages\\torch\\utils\\data\\dataloader.py:701\u001b[0m, in \u001b[0;36m_BaseDataLoaderIter.__next__\u001b[1;34m(self)\u001b[0m\n\u001b[0;32m    698\u001b[0m \u001b[38;5;28;01mif\u001b[39;00m \u001b[38;5;28mself\u001b[39m\u001b[38;5;241m.\u001b[39m_sampler_iter \u001b[38;5;129;01mis\u001b[39;00m \u001b[38;5;28;01mNone\u001b[39;00m:\n\u001b[0;32m    699\u001b[0m     \u001b[38;5;66;03m# TODO(https://github.com/pytorch/pytorch/issues/76750)\u001b[39;00m\n\u001b[0;32m    700\u001b[0m     \u001b[38;5;28mself\u001b[39m\u001b[38;5;241m.\u001b[39m_reset()  \u001b[38;5;66;03m# type: ignore[call-arg]\u001b[39;00m\n\u001b[1;32m--> 701\u001b[0m data \u001b[38;5;241m=\u001b[39m \u001b[38;5;28;43mself\u001b[39;49m\u001b[38;5;241;43m.\u001b[39;49m\u001b[43m_next_data\u001b[49m\u001b[43m(\u001b[49m\u001b[43m)\u001b[49m\n\u001b[0;32m    702\u001b[0m \u001b[38;5;28mself\u001b[39m\u001b[38;5;241m.\u001b[39m_num_yielded \u001b[38;5;241m+\u001b[39m\u001b[38;5;241m=\u001b[39m \u001b[38;5;241m1\u001b[39m\n\u001b[0;32m    703\u001b[0m \u001b[38;5;28;01mif\u001b[39;00m (\n\u001b[0;32m    704\u001b[0m     \u001b[38;5;28mself\u001b[39m\u001b[38;5;241m.\u001b[39m_dataset_kind \u001b[38;5;241m==\u001b[39m _DatasetKind\u001b[38;5;241m.\u001b[39mIterable\n\u001b[0;32m    705\u001b[0m     \u001b[38;5;129;01mand\u001b[39;00m \u001b[38;5;28mself\u001b[39m\u001b[38;5;241m.\u001b[39m_IterableDataset_len_called \u001b[38;5;129;01mis\u001b[39;00m \u001b[38;5;129;01mnot\u001b[39;00m \u001b[38;5;28;01mNone\u001b[39;00m\n\u001b[0;32m    706\u001b[0m     \u001b[38;5;129;01mand\u001b[39;00m \u001b[38;5;28mself\u001b[39m\u001b[38;5;241m.\u001b[39m_num_yielded \u001b[38;5;241m>\u001b[39m \u001b[38;5;28mself\u001b[39m\u001b[38;5;241m.\u001b[39m_IterableDataset_len_called\n\u001b[0;32m    707\u001b[0m ):\n",
            "File \u001b[1;32mc:\\IIUM\\AI Note IIUM\\venv\\lib\\site-packages\\torch\\utils\\data\\dataloader.py:757\u001b[0m, in \u001b[0;36m_SingleProcessDataLoaderIter._next_data\u001b[1;34m(self)\u001b[0m\n\u001b[0;32m    755\u001b[0m \u001b[38;5;28;01mdef\u001b[39;00m\u001b[38;5;250m \u001b[39m\u001b[38;5;21m_next_data\u001b[39m(\u001b[38;5;28mself\u001b[39m):\n\u001b[0;32m    756\u001b[0m     index \u001b[38;5;241m=\u001b[39m \u001b[38;5;28mself\u001b[39m\u001b[38;5;241m.\u001b[39m_next_index()  \u001b[38;5;66;03m# may raise StopIteration\u001b[39;00m\n\u001b[1;32m--> 757\u001b[0m     data \u001b[38;5;241m=\u001b[39m \u001b[38;5;28;43mself\u001b[39;49m\u001b[38;5;241;43m.\u001b[39;49m\u001b[43m_dataset_fetcher\u001b[49m\u001b[38;5;241;43m.\u001b[39;49m\u001b[43mfetch\u001b[49m\u001b[43m(\u001b[49m\u001b[43mindex\u001b[49m\u001b[43m)\u001b[49m  \u001b[38;5;66;03m# may raise StopIteration\u001b[39;00m\n\u001b[0;32m    758\u001b[0m     \u001b[38;5;28;01mif\u001b[39;00m \u001b[38;5;28mself\u001b[39m\u001b[38;5;241m.\u001b[39m_pin_memory:\n\u001b[0;32m    759\u001b[0m         data \u001b[38;5;241m=\u001b[39m _utils\u001b[38;5;241m.\u001b[39mpin_memory\u001b[38;5;241m.\u001b[39mpin_memory(data, \u001b[38;5;28mself\u001b[39m\u001b[38;5;241m.\u001b[39m_pin_memory_device)\n",
            "File \u001b[1;32mc:\\IIUM\\AI Note IIUM\\venv\\lib\\site-packages\\torch\\utils\\data\\_utils\\fetch.py:52\u001b[0m, in \u001b[0;36m_MapDatasetFetcher.fetch\u001b[1;34m(self, possibly_batched_index)\u001b[0m\n\u001b[0;32m     50\u001b[0m         data \u001b[38;5;241m=\u001b[39m \u001b[38;5;28mself\u001b[39m\u001b[38;5;241m.\u001b[39mdataset\u001b[38;5;241m.\u001b[39m__getitems__(possibly_batched_index)\n\u001b[0;32m     51\u001b[0m     \u001b[38;5;28;01melse\u001b[39;00m:\n\u001b[1;32m---> 52\u001b[0m         data \u001b[38;5;241m=\u001b[39m [\u001b[38;5;28mself\u001b[39m\u001b[38;5;241m.\u001b[39mdataset[idx] \u001b[38;5;28;01mfor\u001b[39;00m idx \u001b[38;5;129;01min\u001b[39;00m possibly_batched_index]\n\u001b[0;32m     53\u001b[0m \u001b[38;5;28;01melse\u001b[39;00m:\n\u001b[0;32m     54\u001b[0m     data \u001b[38;5;241m=\u001b[39m \u001b[38;5;28mself\u001b[39m\u001b[38;5;241m.\u001b[39mdataset[possibly_batched_index]\n",
            "File \u001b[1;32mc:\\IIUM\\AI Note IIUM\\venv\\lib\\site-packages\\torch\\utils\\data\\_utils\\fetch.py:52\u001b[0m, in \u001b[0;36m<listcomp>\u001b[1;34m(.0)\u001b[0m\n\u001b[0;32m     50\u001b[0m         data \u001b[38;5;241m=\u001b[39m \u001b[38;5;28mself\u001b[39m\u001b[38;5;241m.\u001b[39mdataset\u001b[38;5;241m.\u001b[39m__getitems__(possibly_batched_index)\n\u001b[0;32m     51\u001b[0m     \u001b[38;5;28;01melse\u001b[39;00m:\n\u001b[1;32m---> 52\u001b[0m         data \u001b[38;5;241m=\u001b[39m [\u001b[38;5;28;43mself\u001b[39;49m\u001b[38;5;241;43m.\u001b[39;49m\u001b[43mdataset\u001b[49m\u001b[43m[\u001b[49m\u001b[43midx\u001b[49m\u001b[43m]\u001b[49m \u001b[38;5;28;01mfor\u001b[39;00m idx \u001b[38;5;129;01min\u001b[39;00m possibly_batched_index]\n\u001b[0;32m     53\u001b[0m \u001b[38;5;28;01melse\u001b[39;00m:\n\u001b[0;32m     54\u001b[0m     data \u001b[38;5;241m=\u001b[39m \u001b[38;5;28mself\u001b[39m\u001b[38;5;241m.\u001b[39mdataset[possibly_batched_index]\n",
            "Cell \u001b[1;32mIn[2], line 9\u001b[0m, in \u001b[0;36mCIFAR10Dataset.__getitem__\u001b[1;34m(self, idx)\u001b[0m\n\u001b[0;32m      8\u001b[0m \u001b[38;5;28;01mdef\u001b[39;00m\u001b[38;5;250m \u001b[39m\u001b[38;5;21m__getitem__\u001b[39m(\u001b[38;5;28mself\u001b[39m, idx):\n\u001b[1;32m----> 9\u001b[0m     \u001b[38;5;28;01mreturn\u001b[39;00m \u001b[38;5;28;43mself\u001b[39;49m\u001b[38;5;241;43m.\u001b[39;49m\u001b[43mdata\u001b[49m\u001b[43m[\u001b[49m\u001b[43midx\u001b[49m\u001b[43m]\u001b[49m\n",
            "File \u001b[1;32mc:\\IIUM\\AI Note IIUM\\venv\\lib\\site-packages\\torchvision\\datasets\\cifar.py:119\u001b[0m, in \u001b[0;36mCIFAR10.__getitem__\u001b[1;34m(self, index)\u001b[0m\n\u001b[0;32m    116\u001b[0m img \u001b[38;5;241m=\u001b[39m Image\u001b[38;5;241m.\u001b[39mfromarray(img)\n\u001b[0;32m    118\u001b[0m \u001b[38;5;28;01mif\u001b[39;00m \u001b[38;5;28mself\u001b[39m\u001b[38;5;241m.\u001b[39mtransform \u001b[38;5;129;01mis\u001b[39;00m \u001b[38;5;129;01mnot\u001b[39;00m \u001b[38;5;28;01mNone\u001b[39;00m:\n\u001b[1;32m--> 119\u001b[0m     img \u001b[38;5;241m=\u001b[39m \u001b[38;5;28;43mself\u001b[39;49m\u001b[38;5;241;43m.\u001b[39;49m\u001b[43mtransform\u001b[49m\u001b[43m(\u001b[49m\u001b[43mimg\u001b[49m\u001b[43m)\u001b[49m\n\u001b[0;32m    121\u001b[0m \u001b[38;5;28;01mif\u001b[39;00m \u001b[38;5;28mself\u001b[39m\u001b[38;5;241m.\u001b[39mtarget_transform \u001b[38;5;129;01mis\u001b[39;00m \u001b[38;5;129;01mnot\u001b[39;00m \u001b[38;5;28;01mNone\u001b[39;00m:\n\u001b[0;32m    122\u001b[0m     target \u001b[38;5;241m=\u001b[39m \u001b[38;5;28mself\u001b[39m\u001b[38;5;241m.\u001b[39mtarget_transform(target)\n",
            "File \u001b[1;32mc:\\IIUM\\AI Note IIUM\\venv\\lib\\site-packages\\torchvision\\transforms\\transforms.py:95\u001b[0m, in \u001b[0;36mCompose.__call__\u001b[1;34m(self, img)\u001b[0m\n\u001b[0;32m     93\u001b[0m \u001b[38;5;28;01mdef\u001b[39;00m\u001b[38;5;250m \u001b[39m\u001b[38;5;21m__call__\u001b[39m(\u001b[38;5;28mself\u001b[39m, img):\n\u001b[0;32m     94\u001b[0m     \u001b[38;5;28;01mfor\u001b[39;00m t \u001b[38;5;129;01min\u001b[39;00m \u001b[38;5;28mself\u001b[39m\u001b[38;5;241m.\u001b[39mtransforms:\n\u001b[1;32m---> 95\u001b[0m         img \u001b[38;5;241m=\u001b[39m \u001b[43mt\u001b[49m\u001b[43m(\u001b[49m\u001b[43mimg\u001b[49m\u001b[43m)\u001b[49m\n\u001b[0;32m     96\u001b[0m     \u001b[38;5;28;01mreturn\u001b[39;00m img\n",
            "File \u001b[1;32mc:\\IIUM\\AI Note IIUM\\venv\\lib\\site-packages\\torch\\nn\\modules\\module.py:1736\u001b[0m, in \u001b[0;36mModule._wrapped_call_impl\u001b[1;34m(self, *args, **kwargs)\u001b[0m\n\u001b[0;32m   1734\u001b[0m     \u001b[38;5;28;01mreturn\u001b[39;00m \u001b[38;5;28mself\u001b[39m\u001b[38;5;241m.\u001b[39m_compiled_call_impl(\u001b[38;5;241m*\u001b[39margs, \u001b[38;5;241m*\u001b[39m\u001b[38;5;241m*\u001b[39mkwargs)  \u001b[38;5;66;03m# type: ignore[misc]\u001b[39;00m\n\u001b[0;32m   1735\u001b[0m \u001b[38;5;28;01melse\u001b[39;00m:\n\u001b[1;32m-> 1736\u001b[0m     \u001b[38;5;28;01mreturn\u001b[39;00m \u001b[38;5;28mself\u001b[39m\u001b[38;5;241m.\u001b[39m_call_impl(\u001b[38;5;241m*\u001b[39margs, \u001b[38;5;241m*\u001b[39m\u001b[38;5;241m*\u001b[39mkwargs)\n",
            "File \u001b[1;32mc:\\IIUM\\AI Note IIUM\\venv\\lib\\site-packages\\torch\\nn\\modules\\module.py:1747\u001b[0m, in \u001b[0;36mModule._call_impl\u001b[1;34m(self, *args, **kwargs)\u001b[0m\n\u001b[0;32m   1742\u001b[0m \u001b[38;5;66;03m# If we don't have any hooks, we want to skip the rest of the logic in\u001b[39;00m\n\u001b[0;32m   1743\u001b[0m \u001b[38;5;66;03m# this function, and just call forward.\u001b[39;00m\n\u001b[0;32m   1744\u001b[0m \u001b[38;5;28;01mif\u001b[39;00m \u001b[38;5;129;01mnot\u001b[39;00m (\u001b[38;5;28mself\u001b[39m\u001b[38;5;241m.\u001b[39m_backward_hooks \u001b[38;5;129;01mor\u001b[39;00m \u001b[38;5;28mself\u001b[39m\u001b[38;5;241m.\u001b[39m_backward_pre_hooks \u001b[38;5;129;01mor\u001b[39;00m \u001b[38;5;28mself\u001b[39m\u001b[38;5;241m.\u001b[39m_forward_hooks \u001b[38;5;129;01mor\u001b[39;00m \u001b[38;5;28mself\u001b[39m\u001b[38;5;241m.\u001b[39m_forward_pre_hooks\n\u001b[0;32m   1745\u001b[0m         \u001b[38;5;129;01mor\u001b[39;00m _global_backward_pre_hooks \u001b[38;5;129;01mor\u001b[39;00m _global_backward_hooks\n\u001b[0;32m   1746\u001b[0m         \u001b[38;5;129;01mor\u001b[39;00m _global_forward_hooks \u001b[38;5;129;01mor\u001b[39;00m _global_forward_pre_hooks):\n\u001b[1;32m-> 1747\u001b[0m     \u001b[38;5;28;01mreturn\u001b[39;00m forward_call(\u001b[38;5;241m*\u001b[39margs, \u001b[38;5;241m*\u001b[39m\u001b[38;5;241m*\u001b[39mkwargs)\n\u001b[0;32m   1749\u001b[0m result \u001b[38;5;241m=\u001b[39m \u001b[38;5;28;01mNone\u001b[39;00m\n\u001b[0;32m   1750\u001b[0m called_always_called_hooks \u001b[38;5;241m=\u001b[39m \u001b[38;5;28mset\u001b[39m()\n",
            "File \u001b[1;32mc:\\IIUM\\AI Note IIUM\\venv\\lib\\site-packages\\torchvision\\transforms\\transforms.py:277\u001b[0m, in \u001b[0;36mNormalize.forward\u001b[1;34m(self, tensor)\u001b[0m\n\u001b[0;32m    269\u001b[0m \u001b[38;5;28;01mdef\u001b[39;00m\u001b[38;5;250m \u001b[39m\u001b[38;5;21mforward\u001b[39m(\u001b[38;5;28mself\u001b[39m, tensor: Tensor) \u001b[38;5;241m-\u001b[39m\u001b[38;5;241m>\u001b[39m Tensor:\n\u001b[0;32m    270\u001b[0m \u001b[38;5;250m    \u001b[39m\u001b[38;5;124;03m\"\"\"\u001b[39;00m\n\u001b[0;32m    271\u001b[0m \u001b[38;5;124;03m    Args:\u001b[39;00m\n\u001b[0;32m    272\u001b[0m \u001b[38;5;124;03m        tensor (Tensor): Tensor image to be normalized.\u001b[39;00m\n\u001b[1;32m   (...)\u001b[0m\n\u001b[0;32m    275\u001b[0m \u001b[38;5;124;03m        Tensor: Normalized Tensor image.\u001b[39;00m\n\u001b[0;32m    276\u001b[0m \u001b[38;5;124;03m    \"\"\"\u001b[39;00m\n\u001b[1;32m--> 277\u001b[0m     \u001b[38;5;28;01mreturn\u001b[39;00m \u001b[43mF\u001b[49m\u001b[38;5;241;43m.\u001b[39;49m\u001b[43mnormalize\u001b[49m\u001b[43m(\u001b[49m\u001b[43mtensor\u001b[49m\u001b[43m,\u001b[49m\u001b[43m \u001b[49m\u001b[38;5;28;43mself\u001b[39;49m\u001b[38;5;241;43m.\u001b[39;49m\u001b[43mmean\u001b[49m\u001b[43m,\u001b[49m\u001b[43m \u001b[49m\u001b[38;5;28;43mself\u001b[39;49m\u001b[38;5;241;43m.\u001b[39;49m\u001b[43mstd\u001b[49m\u001b[43m,\u001b[49m\u001b[43m \u001b[49m\u001b[38;5;28;43mself\u001b[39;49m\u001b[38;5;241;43m.\u001b[39;49m\u001b[43minplace\u001b[49m\u001b[43m)\u001b[49m\n",
            "File \u001b[1;32mc:\\IIUM\\AI Note IIUM\\venv\\lib\\site-packages\\torchvision\\transforms\\functional.py:350\u001b[0m, in \u001b[0;36mnormalize\u001b[1;34m(tensor, mean, std, inplace)\u001b[0m\n\u001b[0;32m    347\u001b[0m \u001b[38;5;28;01mif\u001b[39;00m \u001b[38;5;129;01mnot\u001b[39;00m \u001b[38;5;28misinstance\u001b[39m(tensor, torch\u001b[38;5;241m.\u001b[39mTensor):\n\u001b[0;32m    348\u001b[0m     \u001b[38;5;28;01mraise\u001b[39;00m \u001b[38;5;167;01mTypeError\u001b[39;00m(\u001b[38;5;124mf\u001b[39m\u001b[38;5;124m\"\u001b[39m\u001b[38;5;124mimg should be Tensor Image. Got \u001b[39m\u001b[38;5;132;01m{\u001b[39;00m\u001b[38;5;28mtype\u001b[39m(tensor)\u001b[38;5;132;01m}\u001b[39;00m\u001b[38;5;124m\"\u001b[39m)\n\u001b[1;32m--> 350\u001b[0m \u001b[38;5;28;01mreturn\u001b[39;00m \u001b[43mF_t\u001b[49m\u001b[38;5;241;43m.\u001b[39;49m\u001b[43mnormalize\u001b[49m\u001b[43m(\u001b[49m\u001b[43mtensor\u001b[49m\u001b[43m,\u001b[49m\u001b[43m \u001b[49m\u001b[43mmean\u001b[49m\u001b[38;5;241;43m=\u001b[39;49m\u001b[43mmean\u001b[49m\u001b[43m,\u001b[49m\u001b[43m \u001b[49m\u001b[43mstd\u001b[49m\u001b[38;5;241;43m=\u001b[39;49m\u001b[43mstd\u001b[49m\u001b[43m,\u001b[49m\u001b[43m \u001b[49m\u001b[43minplace\u001b[49m\u001b[38;5;241;43m=\u001b[39;49m\u001b[43minplace\u001b[49m\u001b[43m)\u001b[49m\n",
            "File \u001b[1;32mc:\\IIUM\\AI Note IIUM\\venv\\lib\\site-packages\\torchvision\\transforms\\_functional_tensor.py:922\u001b[0m, in \u001b[0;36mnormalize\u001b[1;34m(tensor, mean, std, inplace)\u001b[0m\n\u001b[0;32m    920\u001b[0m mean \u001b[38;5;241m=\u001b[39m torch\u001b[38;5;241m.\u001b[39mas_tensor(mean, dtype\u001b[38;5;241m=\u001b[39mdtype, device\u001b[38;5;241m=\u001b[39mtensor\u001b[38;5;241m.\u001b[39mdevice)\n\u001b[0;32m    921\u001b[0m std \u001b[38;5;241m=\u001b[39m torch\u001b[38;5;241m.\u001b[39mas_tensor(std, dtype\u001b[38;5;241m=\u001b[39mdtype, device\u001b[38;5;241m=\u001b[39mtensor\u001b[38;5;241m.\u001b[39mdevice)\n\u001b[1;32m--> 922\u001b[0m \u001b[38;5;28;01mif\u001b[39;00m \u001b[43m(\u001b[49m\u001b[43mstd\u001b[49m\u001b[43m \u001b[49m\u001b[38;5;241;43m==\u001b[39;49m\u001b[43m \u001b[49m\u001b[38;5;241;43m0\u001b[39;49m\u001b[43m)\u001b[49m\u001b[38;5;241;43m.\u001b[39;49m\u001b[43many\u001b[49m\u001b[43m(\u001b[49m\u001b[43m)\u001b[49m:\n\u001b[0;32m    923\u001b[0m     \u001b[38;5;28;01mraise\u001b[39;00m \u001b[38;5;167;01mValueError\u001b[39;00m(\u001b[38;5;124mf\u001b[39m\u001b[38;5;124m\"\u001b[39m\u001b[38;5;124mstd evaluated to zero after conversion to \u001b[39m\u001b[38;5;132;01m{\u001b[39;00mdtype\u001b[38;5;132;01m}\u001b[39;00m\u001b[38;5;124m, leading to division by zero.\u001b[39m\u001b[38;5;124m\"\u001b[39m)\n\u001b[0;32m    924\u001b[0m \u001b[38;5;28;01mif\u001b[39;00m mean\u001b[38;5;241m.\u001b[39mndim \u001b[38;5;241m==\u001b[39m \u001b[38;5;241m1\u001b[39m:\n",
            "\u001b[1;31mKeyboardInterrupt\u001b[0m: "
          ]
        }
      ],
      "source": [
        "num_epochs =10\n",
        "trained_model, history = train_and_validate(model, train_dataloader, test_dataloader, loss_fn, optimizer, num_epochs)"
      ]
    },
    {
      "cell_type": "code",
      "execution_count": 18,
      "metadata": {
        "colab": {
          "base_uri": "https://localhost:8080/",
          "height": 473
        },
        "id": "wN477QQ4e6h-",
        "outputId": "1f855187-0a81-4775-8dbc-cf7f107d4012"
      },
      "outputs": [
        {
          "data": {
            "image/png": "[encoded data removed]",
            "text/plain": [
              "<Figure size 1200x500 with 2 Axes>"
            ]
          },
          "metadata": {},
          "output_type": "display_data"
        }
      ],
      "source": [
        "# Extracting data for plotting\n",
        "train_losses = history['train_loss']\n",
        "train_accuracies = history['train_accuracy']\n",
        "val_losses = history['val_loss']\n",
        "val_accuracies = history['val_accuracy']\n",
        "epochs = range(1, len(train_losses) + 1)\n",
        "\n",
        "# Plotting\n",
        "plt.figure(figsize=(12, 5))\n",
        "\n",
        "# Loss Plot\n",
        "plt.subplot(1, 2, 1)\n",
        "plt.plot(epochs, train_losses, label='Training Loss')\n",
        "plt.plot(epochs, val_losses, label='Validation Loss')\n",
        "plt.title('Training and Validation Loss')\n",
        "plt.ylim(0, 3)\n",
        "plt.xlabel('Epoch')\n",
        "plt.ylabel('Loss')\n",
        "plt.legend()\n",
        "\n",
        "# Accuracy Plot\n",
        "plt.subplot(1, 2, 2)\n",
        "plt.plot(epochs, train_accuracies, label='Training Accuracy')\n",
        "plt.plot(epochs, val_accuracies, label='Validation Accuracy')\n",
        "plt.title('Training and Validation Accuracy')\n",
        "plt.ylim(0, 1)\n",
        "plt.xlabel('Epoch')\n",
        "plt.ylabel('Accuracy')\n",
        "plt.legend()\n",
        "\n",
        "plt.tight_layout()\n",
        "plt.show()"
      ]
    },
    {
      "cell_type": "code",
      "execution_count": null,
      "metadata": {
        "id": "ksfu_3QoFO-m"
      },
      "outputs": [],
      "source": []
    }
  ],
  "metadata": {
    "accelerator": "GPU",
    "colab": {
      "gpuType": "T4",
      "provenance": []
    },
    "kernelspec": {
      "display_name": "venv",
      "language": "python",
      "name": "python3"
    },
    "language_info": {
      "codemirror_mode": {
        "name": "ipython",
        "version": 3
      },
      "file_extension": ".py",
      "mimetype": "text/x-python",
      "name": "python",
      "nbconvert_exporter": "python",
      "pygments_lexer": "ipython3",
      "version": "3.10.0"
    },
    "widgets": {
      "application/vnd.jupyter.widget-state+json": {
        "13583170358c4c0da03ab7252553976e": {
          "model_module": "@jupyter-widgets/controls",
          "model_module_version": "1.5.0",
          "model_name": "HBoxModel",
          "state": {
            "_dom_classes": [],
            "_model_module": "@jupyter-widgets/controls",
            "_model_module_version": "1.5.0",
            "_model_name": "HBoxModel",
            "_view_count": null,
            "_view_module": "@jupyter-widgets/controls",
            "_view_module_version": "1.5.0",
            "_view_name": "HBoxView",
            "box_style": "",
            "children": [
              "IPY_MODEL_e50ba2d39a374e9096c112ad4798e3f5",
              "IPY_MODEL_316e81bafbb64beb8db9d30f37a2ec03",
              "IPY_MODEL_8aaf4e25d45842b58dc62d1c7ee68d69"
            ],
            "layout": "IPY_MODEL_5518e78b3c1248cdbca2ccaee224ad63"
          }
        },
        "316e81bafbb64beb8db9d30f37a2ec03": {
          "model_module": "@jupyter-widgets/controls",
          "model_module_version": "1.5.0",
          "model_name": "FloatProgressModel",
          "state": {
            "_dom_classes": [],
            "_model_module": "@jupyter-widgets/controls",
            "_model_module_version": "1.5.0",
            "_model_name": "FloatProgressModel",
            "_view_count": null,
            "_view_module": "@jupyter-widgets/controls",
            "_view_module_version": "1.5.0",
            "_view_name": "ProgressView",
            "bar_style": "success",
            "description": "",
            "description_tooltip": null,
            "layout": "IPY_MODEL_85b5bc6751764beab6689e6dcdaec549",
            "max": 10,
            "min": 0,
            "orientation": "horizontal",
            "style": "IPY_MODEL_d5936b8de2f54622a0a8512418647923",
            "value": 10
          }
        },
        "5518e78b3c1248cdbca2ccaee224ad63": {
          "model_module": "@jupyter-widgets/base",
          "model_module_version": "1.2.0",
          "model_name": "LayoutModel",
          "state": {
            "_model_module": "@jupyter-widgets/base",
            "_model_module_version": "1.2.0",
            "_model_name": "LayoutModel",
            "_view_count": null,
            "_view_module": "@jupyter-widgets/base",
            "_view_module_version": "1.2.0",
            "_view_name": "LayoutView",
            "align_content": null,
            "align_items": null,
            "align_self": null,
            "border": null,
            "bottom": null,
            "display": null,
            "flex": null,
            "flex_flow": null,
            "grid_area": null,
            "grid_auto_columns": null,
            "grid_auto_flow": null,
            "grid_auto_rows": null,
            "grid_column": null,
            "grid_gap": null,
            "grid_row": null,
            "grid_template_areas": null,
            "grid_template_columns": null,
            "grid_template_rows": null,
            "height": null,
            "justify_content": null,
            "justify_items": null,
            "left": null,
            "margin": null,
            "max_height": null,
            "max_width": null,
            "min_height": null,
            "min_width": null,
            "object_fit": null,
            "object_position": null,
            "order": null,
            "overflow": null,
            "overflow_x": null,
            "overflow_y": null,
            "padding": null,
            "right": null,
            "top": null,
            "visibility": null,
            "width": null
          }
        },
        "6744fd744e084633ac5a93bd05ab0037": {
          "model_module": "@jupyter-widgets/controls",
          "model_module_version": "1.5.0",
          "model_name": "DescriptionStyleModel",
          "state": {
            "_model_module": "@jupyter-widgets/controls",
            "_model_module_version": "1.5.0",
            "_model_name": "DescriptionStyleModel",
            "_view_count": null,
            "_view_module": "@jupyter-widgets/base",
            "_view_module_version": "1.2.0",
            "_view_name": "StyleView",
            "description_width": ""
          }
        },
        "683b8cc4e9bf43cdb43595ffb3746db1": {
          "model_module": "@jupyter-widgets/controls",
          "model_module_version": "1.5.0",
          "model_name": "DescriptionStyleModel",
          "state": {
            "_model_module": "@jupyter-widgets/controls",
            "_model_module_version": "1.5.0",
            "_model_name": "DescriptionStyleModel",
            "_view_count": null,
            "_view_module": "@jupyter-widgets/base",
            "_view_module_version": "1.2.0",
            "_view_name": "StyleView",
            "description_width": ""
          }
        },
        "786a4ea44f7340b988d9c94323e62a38": {
          "model_module": "@jupyter-widgets/base",
          "model_module_version": "1.2.0",
          "model_name": "LayoutModel",
          "state": {
            "_model_module": "@jupyter-widgets/base",
            "_model_module_version": "1.2.0",
            "_model_name": "LayoutModel",
            "_view_count": null,
            "_view_module": "@jupyter-widgets/base",
            "_view_module_version": "1.2.0",
            "_view_name": "LayoutView",
            "align_content": null,
            "align_items": null,
            "align_self": null,
            "border": null,
            "bottom": null,
            "display": null,
            "flex": null,
            "flex_flow": null,
            "grid_area": null,
            "grid_auto_columns": null,
            "grid_auto_flow": null,
            "grid_auto_rows": null,
            "grid_column": null,
            "grid_gap": null,
            "grid_row": null,
            "grid_template_areas": null,
            "grid_template_columns": null,
            "grid_template_rows": null,
            "height": null,
            "justify_content": null,
            "justify_items": null,
            "left": null,
            "margin": null,
            "max_height": null,
            "max_width": null,
            "min_height": null,
            "min_width": null,
            "object_fit": null,
            "object_position": null,
            "order": null,
            "overflow": null,
            "overflow_x": null,
            "overflow_y": null,
            "padding": null,
            "right": null,
            "top": null,
            "visibility": null,
            "width": null
          }
        },
        "7b7efc4cb753414185b700dddd363d11": {
          "model_module": "@jupyter-widgets/base",
          "model_module_version": "1.2.0",
          "model_name": "LayoutModel",
          "state": {
            "_model_module": "@jupyter-widgets/base",
            "_model_module_version": "1.2.0",
            "_model_name": "LayoutModel",
            "_view_count": null,
            "_view_module": "@jupyter-widgets/base",
            "_view_module_version": "1.2.0",
            "_view_name": "LayoutView",
            "align_content": null,
            "align_items": null,
            "align_self": null,
            "border": null,
            "bottom": null,
            "display": null,
            "flex": null,
            "flex_flow": null,
            "grid_area": null,
            "grid_auto_columns": null,
            "grid_auto_flow": null,
            "grid_auto_rows": null,
            "grid_column": null,
            "grid_gap": null,
            "grid_row": null,
            "grid_template_areas": null,
            "grid_template_columns": null,
            "grid_template_rows": null,
            "height": null,
            "justify_content": null,
            "justify_items": null,
            "left": null,
            "margin": null,
            "max_height": null,
            "max_width": null,
            "min_height": null,
            "min_width": null,
            "object_fit": null,
            "object_position": null,
            "order": null,
            "overflow": null,
            "overflow_x": null,
            "overflow_y": null,
            "padding": null,
            "right": null,
            "top": null,
            "visibility": null,
            "width": null
          }
        },
        "85b5bc6751764beab6689e6dcdaec549": {
          "model_module": "@jupyter-widgets/base",
          "model_module_version": "1.2.0",
          "model_name": "LayoutModel",
          "state": {
            "_model_module": "@jupyter-widgets/base",
            "_model_module_version": "1.2.0",
            "_model_name": "LayoutModel",
            "_view_count": null,
            "_view_module": "@jupyter-widgets/base",
            "_view_module_version": "1.2.0",
            "_view_name": "LayoutView",
            "align_content": null,
            "align_items": null,
            "align_self": null,
            "border": null,
            "bottom": null,
            "display": null,
            "flex": null,
            "flex_flow": null,
            "grid_area": null,
            "grid_auto_columns": null,
            "grid_auto_flow": null,
            "grid_auto_rows": null,
            "grid_column": null,
            "grid_gap": null,
            "grid_row": null,
            "grid_template_areas": null,
            "grid_template_columns": null,
            "grid_template_rows": null,
            "height": null,
            "justify_content": null,
            "justify_items": null,
            "left": null,
            "margin": null,
            "max_height": null,
            "max_width": null,
            "min_height": null,
            "min_width": null,
            "object_fit": null,
            "object_position": null,
            "order": null,
            "overflow": null,
            "overflow_x": null,
            "overflow_y": null,
            "padding": null,
            "right": null,
            "top": null,
            "visibility": null,
            "width": null
          }
        },
        "8aaf4e25d45842b58dc62d1c7ee68d69": {
          "model_module": "@jupyter-widgets/controls",
          "model_module_version": "1.5.0",
          "model_name": "HTMLModel",
          "state": {
            "_dom_classes": [],
            "_model_module": "@jupyter-widgets/controls",
            "_model_module_version": "1.5.0",
            "_model_name": "HTMLModel",
            "_view_count": null,
            "_view_module": "@jupyter-widgets/controls",
            "_view_module_version": "1.5.0",
            "_view_name": "HTMLView",
            "description": "",
            "description_tooltip": null,
            "layout": "IPY_MODEL_786a4ea44f7340b988d9c94323e62a38",
            "placeholder": "​",
            "style": "IPY_MODEL_683b8cc4e9bf43cdb43595ffb3746db1",
            "value": " 10/10 [03:43&lt;00:00, 22.09s/it]"
          }
        },
        "d5936b8de2f54622a0a8512418647923": {
          "model_module": "@jupyter-widgets/controls",
          "model_module_version": "1.5.0",
          "model_name": "ProgressStyleModel",
          "state": {
            "_model_module": "@jupyter-widgets/controls",
            "_model_module_version": "1.5.0",
            "_model_name": "ProgressStyleModel",
            "_view_count": null,
            "_view_module": "@jupyter-widgets/base",
            "_view_module_version": "1.2.0",
            "_view_name": "StyleView",
            "bar_color": null,
            "description_width": ""
          }
        },
        "e50ba2d39a374e9096c112ad4798e3f5": {
          "model_module": "@jupyter-widgets/controls",
          "model_module_version": "1.5.0",
          "model_name": "HTMLModel",
          "state": {
            "_dom_classes": [],
            "_model_module": "@jupyter-widgets/controls",
            "_model_module_version": "1.5.0",
            "_model_name": "HTMLModel",
            "_view_count": null,
            "_view_module": "@jupyter-widgets/controls",
            "_view_module_version": "1.5.0",
            "_view_name": "HTMLView",
            "description": "",
            "description_tooltip": null,
            "layout": "IPY_MODEL_7b7efc4cb753414185b700dddd363d11",
            "placeholder": "​",
            "style": "IPY_MODEL_6744fd744e084633ac5a93bd05ab0037",
            "value": "Training Progress: 100%"
          }
        }
      }
    }
  },
  "nbformat": 4,
  "nbformat_minor": 0
}
